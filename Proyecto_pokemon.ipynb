{
 "cells": [
  {
   "cell_type": "code",
   "execution_count": 9,
   "metadata": {},
   "outputs": [],
   "source": [
    "# Importamos Librerias\n",
    "import pandas as pd\n",
    "import seaborn as sns\n",
    "import matplotlib.pyplot as plt\n",
    "import numpy as np\n",
    "import plotly.graph_objects as go\n",
    "import plotly.express as px\n",
    "import plotly.figure_factory as ff\n",
    "from plotly.subplots import make_subplots\n",
    "plt.style.use('fivethirtyeight')\n"
   ]
  },
  {
   "cell_type": "code",
   "execution_count": 10,
   "metadata": {},
   "outputs": [
    {
     "data": {
      "text/html": [
       "<div>\n",
       "<style scoped>\n",
       "    .dataframe tbody tr th:only-of-type {\n",
       "        vertical-align: middle;\n",
       "    }\n",
       "\n",
       "    .dataframe tbody tr th {\n",
       "        vertical-align: top;\n",
       "    }\n",
       "\n",
       "    .dataframe thead th {\n",
       "        text-align: right;\n",
       "    }\n",
       "</style>\n",
       "<table border=\"1\" class=\"dataframe\">\n",
       "  <thead>\n",
       "    <tr style=\"text-align: right;\">\n",
       "      <th></th>\n",
       "      <th>referencie</th>\n",
       "      <th>name</th>\n",
       "      <th>generation</th>\n",
       "      <th>status</th>\n",
       "      <th>type_1</th>\n",
       "      <th>type_2</th>\n",
       "      <th>height_m</th>\n",
       "      <th>weight_kg</th>\n",
       "      <th>abilities_number</th>\n",
       "      <th>ability_1</th>\n",
       "      <th>...</th>\n",
       "      <th>against_ground</th>\n",
       "      <th>against_flying</th>\n",
       "      <th>against_psychic</th>\n",
       "      <th>against_bug</th>\n",
       "      <th>against_rock</th>\n",
       "      <th>against_ghost</th>\n",
       "      <th>against_dragon</th>\n",
       "      <th>against_dark</th>\n",
       "      <th>against_steel</th>\n",
       "      <th>against_fairy</th>\n",
       "    </tr>\n",
       "  </thead>\n",
       "  <tbody>\n",
       "    <tr>\n",
       "      <th>0</th>\n",
       "      <td>0</td>\n",
       "      <td>Bulbasaur</td>\n",
       "      <td>1</td>\n",
       "      <td>Normal</td>\n",
       "      <td>Grass</td>\n",
       "      <td>Poison</td>\n",
       "      <td>0.7</td>\n",
       "      <td>6.9</td>\n",
       "      <td>2</td>\n",
       "      <td>Overgrow</td>\n",
       "      <td>...</td>\n",
       "      <td>1.0</td>\n",
       "      <td>2.0</td>\n",
       "      <td>2.0</td>\n",
       "      <td>1.0</td>\n",
       "      <td>1.0</td>\n",
       "      <td>1.0</td>\n",
       "      <td>1.0</td>\n",
       "      <td>1.0</td>\n",
       "      <td>1.0</td>\n",
       "      <td>0.5</td>\n",
       "    </tr>\n",
       "    <tr>\n",
       "      <th>1</th>\n",
       "      <td>1</td>\n",
       "      <td>Ivysaur</td>\n",
       "      <td>1</td>\n",
       "      <td>Normal</td>\n",
       "      <td>Grass</td>\n",
       "      <td>Poison</td>\n",
       "      <td>1.0</td>\n",
       "      <td>13.0</td>\n",
       "      <td>2</td>\n",
       "      <td>Overgrow</td>\n",
       "      <td>...</td>\n",
       "      <td>1.0</td>\n",
       "      <td>2.0</td>\n",
       "      <td>2.0</td>\n",
       "      <td>1.0</td>\n",
       "      <td>1.0</td>\n",
       "      <td>1.0</td>\n",
       "      <td>1.0</td>\n",
       "      <td>1.0</td>\n",
       "      <td>1.0</td>\n",
       "      <td>0.5</td>\n",
       "    </tr>\n",
       "    <tr>\n",
       "      <th>2</th>\n",
       "      <td>2</td>\n",
       "      <td>Venusaur</td>\n",
       "      <td>1</td>\n",
       "      <td>Normal</td>\n",
       "      <td>Grass</td>\n",
       "      <td>Poison</td>\n",
       "      <td>2.0</td>\n",
       "      <td>100.0</td>\n",
       "      <td>2</td>\n",
       "      <td>Overgrow</td>\n",
       "      <td>...</td>\n",
       "      <td>1.0</td>\n",
       "      <td>2.0</td>\n",
       "      <td>2.0</td>\n",
       "      <td>1.0</td>\n",
       "      <td>1.0</td>\n",
       "      <td>1.0</td>\n",
       "      <td>1.0</td>\n",
       "      <td>1.0</td>\n",
       "      <td>1.0</td>\n",
       "      <td>0.5</td>\n",
       "    </tr>\n",
       "    <tr>\n",
       "      <th>3</th>\n",
       "      <td>3</td>\n",
       "      <td>Mega Venusaur</td>\n",
       "      <td>1</td>\n",
       "      <td>Normal</td>\n",
       "      <td>Grass</td>\n",
       "      <td>Poison</td>\n",
       "      <td>2.4</td>\n",
       "      <td>155.5</td>\n",
       "      <td>1</td>\n",
       "      <td>Thick Fat</td>\n",
       "      <td>...</td>\n",
       "      <td>1.0</td>\n",
       "      <td>2.0</td>\n",
       "      <td>2.0</td>\n",
       "      <td>1.0</td>\n",
       "      <td>1.0</td>\n",
       "      <td>1.0</td>\n",
       "      <td>1.0</td>\n",
       "      <td>1.0</td>\n",
       "      <td>1.0</td>\n",
       "      <td>0.5</td>\n",
       "    </tr>\n",
       "    <tr>\n",
       "      <th>4</th>\n",
       "      <td>4</td>\n",
       "      <td>Charmander</td>\n",
       "      <td>1</td>\n",
       "      <td>Normal</td>\n",
       "      <td>Fire</td>\n",
       "      <td>NaN</td>\n",
       "      <td>0.6</td>\n",
       "      <td>8.5</td>\n",
       "      <td>2</td>\n",
       "      <td>Blaze</td>\n",
       "      <td>...</td>\n",
       "      <td>2.0</td>\n",
       "      <td>1.0</td>\n",
       "      <td>1.0</td>\n",
       "      <td>0.5</td>\n",
       "      <td>2.0</td>\n",
       "      <td>1.0</td>\n",
       "      <td>1.0</td>\n",
       "      <td>1.0</td>\n",
       "      <td>0.5</td>\n",
       "      <td>0.5</td>\n",
       "    </tr>\n",
       "  </tbody>\n",
       "</table>\n",
       "<p>5 rows × 46 columns</p>\n",
       "</div>"
      ],
      "text/plain": [
       "   referencie           name  generation  status type_1  type_2  height_m   \n",
       "0           0      Bulbasaur           1  Normal  Grass  Poison       0.7  \\\n",
       "1           1        Ivysaur           1  Normal  Grass  Poison       1.0   \n",
       "2           2       Venusaur           1  Normal  Grass  Poison       2.0   \n",
       "3           3  Mega Venusaur           1  Normal  Grass  Poison       2.4   \n",
       "4           4     Charmander           1  Normal   Fire     NaN       0.6   \n",
       "\n",
       "   weight_kg  abilities_number  ability_1  ... against_ground against_flying   \n",
       "0        6.9                 2   Overgrow  ...            1.0            2.0  \\\n",
       "1       13.0                 2   Overgrow  ...            1.0            2.0   \n",
       "2      100.0                 2   Overgrow  ...            1.0            2.0   \n",
       "3      155.5                 1  Thick Fat  ...            1.0            2.0   \n",
       "4        8.5                 2      Blaze  ...            2.0            1.0   \n",
       "\n",
       "   against_psychic  against_bug  against_rock  against_ghost  against_dragon   \n",
       "0              2.0          1.0           1.0            1.0             1.0  \\\n",
       "1              2.0          1.0           1.0            1.0             1.0   \n",
       "2              2.0          1.0           1.0            1.0             1.0   \n",
       "3              2.0          1.0           1.0            1.0             1.0   \n",
       "4              1.0          0.5           2.0            1.0             1.0   \n",
       "\n",
       "   against_dark  against_steel  against_fairy  \n",
       "0           1.0            1.0            0.5  \n",
       "1           1.0            1.0            0.5  \n",
       "2           1.0            1.0            0.5  \n",
       "3           1.0            1.0            0.5  \n",
       "4           1.0            0.5            0.5  \n",
       "\n",
       "[5 rows x 46 columns]"
      ]
     },
     "execution_count": 10,
     "metadata": {},
     "output_type": "execute_result"
    }
   ],
   "source": [
    "# Traemos un resumen con .head de los 5 primeros elementos, para observar si esta apunto nuestro dataframe\n",
    "df= pd.read_csv('pokedex.csv')\n",
    "df.head(n=5) "
   ]
  },
  {
   "cell_type": "code",
   "execution_count": 11,
   "metadata": {},
   "outputs": [
    {
     "data": {
      "text/plain": [
       "<bound method DataFrame.info of       referencie                            name  generation     status   \n",
       "0              0                       Bulbasaur           1     Normal  \\\n",
       "1              1                         Ivysaur           1     Normal   \n",
       "2              2                        Venusaur           1     Normal   \n",
       "3              3                   Mega Venusaur           1     Normal   \n",
       "4              4                      Charmander           1     Normal   \n",
       "...          ...                             ...         ...        ...   \n",
       "1023        1023     Zacian Hero of Many Battles           8  Legendary   \n",
       "1024        1024        Zamazenta Crowned Shield           8  Legendary   \n",
       "1025        1025  Zamazenta Hero of Many Battles           8  Legendary   \n",
       "1026        1026                       Eternatus           8  Legendary   \n",
       "1027        1027             Eternatus Eternamax           8  Legendary   \n",
       "\n",
       "        type_1  type_2  height_m  weight_kg  abilities_number   \n",
       "0        Grass  Poison       0.7        6.9                 2  \\\n",
       "1        Grass  Poison       1.0       13.0                 2   \n",
       "2        Grass  Poison       2.0      100.0                 2   \n",
       "3        Grass  Poison       2.4      155.5                 1   \n",
       "4         Fire     NaN       0.6        8.5                 2   \n",
       "...        ...     ...       ...        ...               ...   \n",
       "1023     Fairy     NaN       2.8      110.0                 1   \n",
       "1024  Fighting   Steel       2.9      785.0                 1   \n",
       "1025  Fighting     NaN       2.9      210.0                 1   \n",
       "1026    Poison  Dragon      20.0      950.0                 1   \n",
       "1027    Poison  Dragon     100.0        NaN                 0   \n",
       "\n",
       "             ability_1  ... against_ground against_flying  against_psychic   \n",
       "0             Overgrow  ...            1.0            2.0              2.0  \\\n",
       "1             Overgrow  ...            1.0            2.0              2.0   \n",
       "2             Overgrow  ...            1.0            2.0              2.0   \n",
       "3            Thick Fat  ...            1.0            2.0              2.0   \n",
       "4                Blaze  ...            2.0            1.0              1.0   \n",
       "...                ...  ...            ...            ...              ...   \n",
       "1023    Intrepid Sword  ...            1.0            1.0              1.0   \n",
       "1024  Dauntless Shield  ...            2.0            1.0              1.0   \n",
       "1025  Dauntless Shield  ...            1.0            2.0              2.0   \n",
       "1026          Pressure  ...            2.0            1.0              2.0   \n",
       "1027               NaN  ...            2.0            1.0              2.0   \n",
       "\n",
       "      against_bug  against_rock  against_ghost  against_dragon  against_dark   \n",
       "0            1.00          1.00            1.0             1.0           1.0  \\\n",
       "1            1.00          1.00            1.0             1.0           1.0   \n",
       "2            1.00          1.00            1.0             1.0           1.0   \n",
       "3            1.00          1.00            1.0             1.0           1.0   \n",
       "4            0.50          2.00            1.0             1.0           1.0   \n",
       "...           ...           ...            ...             ...           ...   \n",
       "1023         0.50          1.00            1.0             0.0           0.5   \n",
       "1024         0.25          0.25            1.0             0.5           0.5   \n",
       "1025         0.50          0.50            1.0             1.0           0.5   \n",
       "1026         0.50          1.00            1.0             2.0           1.0   \n",
       "1027         0.50          1.00            1.0             2.0           1.0   \n",
       "\n",
       "      against_steel  against_fairy  \n",
       "0               1.0            0.5  \n",
       "1               1.0            0.5  \n",
       "2               1.0            0.5  \n",
       "3               1.0            0.5  \n",
       "4               0.5            0.5  \n",
       "...             ...            ...  \n",
       "1023            2.0            1.0  \n",
       "1024            0.5            1.0  \n",
       "1025            1.0            2.0  \n",
       "1026            1.0            1.0  \n",
       "1027            1.0            1.0  \n",
       "\n",
       "[1028 rows x 46 columns]>"
      ]
     },
     "execution_count": 11,
     "metadata": {},
     "output_type": "execute_result"
    }
   ],
   "source": [
    "#Informacion del DataFrame\n",
    "df.info"
   ]
  },
  {
   "cell_type": "code",
   "execution_count": 12,
   "metadata": {},
   "outputs": [
    {
     "data": {
      "text/html": [
       "<div>\n",
       "<style scoped>\n",
       "    .dataframe tbody tr th:only-of-type {\n",
       "        vertical-align: middle;\n",
       "    }\n",
       "\n",
       "    .dataframe tbody tr th {\n",
       "        vertical-align: top;\n",
       "    }\n",
       "\n",
       "    .dataframe thead th {\n",
       "        text-align: right;\n",
       "    }\n",
       "</style>\n",
       "<table border=\"1\" class=\"dataframe\">\n",
       "  <thead>\n",
       "    <tr style=\"text-align: right;\">\n",
       "      <th></th>\n",
       "      <th>REFERENCIE</th>\n",
       "      <th>NAME</th>\n",
       "      <th>GENERATION</th>\n",
       "      <th>STATUS</th>\n",
       "      <th>TYPE1</th>\n",
       "      <th>TYPE2</th>\n",
       "      <th>HEIGHTM</th>\n",
       "      <th>WEIGHTKG</th>\n",
       "      <th>ABILITIESNUMBER</th>\n",
       "      <th>ABILITY1</th>\n",
       "      <th>...</th>\n",
       "      <th>AGAINSTGROUND</th>\n",
       "      <th>AGAINSTFLYING</th>\n",
       "      <th>AGAINSTPSYCHIC</th>\n",
       "      <th>AGAINSTBUG</th>\n",
       "      <th>AGAINSTROCK</th>\n",
       "      <th>AGAINSTGHOST</th>\n",
       "      <th>AGAINSTDRAGON</th>\n",
       "      <th>AGAINSTDARK</th>\n",
       "      <th>AGAINSTSTEEL</th>\n",
       "      <th>AGAINSTFAIRY</th>\n",
       "    </tr>\n",
       "  </thead>\n",
       "  <tbody>\n",
       "    <tr>\n",
       "      <th>0</th>\n",
       "      <td>0</td>\n",
       "      <td>Bulbasaur</td>\n",
       "      <td>1</td>\n",
       "      <td>Normal</td>\n",
       "      <td>Grass</td>\n",
       "      <td>Poison</td>\n",
       "      <td>0.7</td>\n",
       "      <td>6.9</td>\n",
       "      <td>2</td>\n",
       "      <td>Overgrow</td>\n",
       "      <td>...</td>\n",
       "      <td>1.0</td>\n",
       "      <td>2.0</td>\n",
       "      <td>2.0</td>\n",
       "      <td>1.0</td>\n",
       "      <td>1.0</td>\n",
       "      <td>1.0</td>\n",
       "      <td>1.0</td>\n",
       "      <td>1.0</td>\n",
       "      <td>1.0</td>\n",
       "      <td>0.5</td>\n",
       "    </tr>\n",
       "    <tr>\n",
       "      <th>1</th>\n",
       "      <td>1</td>\n",
       "      <td>Ivysaur</td>\n",
       "      <td>1</td>\n",
       "      <td>Normal</td>\n",
       "      <td>Grass</td>\n",
       "      <td>Poison</td>\n",
       "      <td>1.0</td>\n",
       "      <td>13.0</td>\n",
       "      <td>2</td>\n",
       "      <td>Overgrow</td>\n",
       "      <td>...</td>\n",
       "      <td>1.0</td>\n",
       "      <td>2.0</td>\n",
       "      <td>2.0</td>\n",
       "      <td>1.0</td>\n",
       "      <td>1.0</td>\n",
       "      <td>1.0</td>\n",
       "      <td>1.0</td>\n",
       "      <td>1.0</td>\n",
       "      <td>1.0</td>\n",
       "      <td>0.5</td>\n",
       "    </tr>\n",
       "    <tr>\n",
       "      <th>2</th>\n",
       "      <td>2</td>\n",
       "      <td>Venusaur</td>\n",
       "      <td>1</td>\n",
       "      <td>Normal</td>\n",
       "      <td>Grass</td>\n",
       "      <td>Poison</td>\n",
       "      <td>2.0</td>\n",
       "      <td>100.0</td>\n",
       "      <td>2</td>\n",
       "      <td>Overgrow</td>\n",
       "      <td>...</td>\n",
       "      <td>1.0</td>\n",
       "      <td>2.0</td>\n",
       "      <td>2.0</td>\n",
       "      <td>1.0</td>\n",
       "      <td>1.0</td>\n",
       "      <td>1.0</td>\n",
       "      <td>1.0</td>\n",
       "      <td>1.0</td>\n",
       "      <td>1.0</td>\n",
       "      <td>0.5</td>\n",
       "    </tr>\n",
       "    <tr>\n",
       "      <th>3</th>\n",
       "      <td>3</td>\n",
       "      <td>Mega Venusaur</td>\n",
       "      <td>1</td>\n",
       "      <td>Normal</td>\n",
       "      <td>Grass</td>\n",
       "      <td>Poison</td>\n",
       "      <td>2.4</td>\n",
       "      <td>155.5</td>\n",
       "      <td>1</td>\n",
       "      <td>Thick Fat</td>\n",
       "      <td>...</td>\n",
       "      <td>1.0</td>\n",
       "      <td>2.0</td>\n",
       "      <td>2.0</td>\n",
       "      <td>1.0</td>\n",
       "      <td>1.0</td>\n",
       "      <td>1.0</td>\n",
       "      <td>1.0</td>\n",
       "      <td>1.0</td>\n",
       "      <td>1.0</td>\n",
       "      <td>0.5</td>\n",
       "    </tr>\n",
       "    <tr>\n",
       "      <th>4</th>\n",
       "      <td>4</td>\n",
       "      <td>Charmander</td>\n",
       "      <td>1</td>\n",
       "      <td>Normal</td>\n",
       "      <td>Fire</td>\n",
       "      <td>NaN</td>\n",
       "      <td>0.6</td>\n",
       "      <td>8.5</td>\n",
       "      <td>2</td>\n",
       "      <td>Blaze</td>\n",
       "      <td>...</td>\n",
       "      <td>2.0</td>\n",
       "      <td>1.0</td>\n",
       "      <td>1.0</td>\n",
       "      <td>0.5</td>\n",
       "      <td>2.0</td>\n",
       "      <td>1.0</td>\n",
       "      <td>1.0</td>\n",
       "      <td>1.0</td>\n",
       "      <td>0.5</td>\n",
       "      <td>0.5</td>\n",
       "    </tr>\n",
       "  </tbody>\n",
       "</table>\n",
       "<p>5 rows × 46 columns</p>\n",
       "</div>"
      ],
      "text/plain": [
       "   REFERENCIE           NAME  GENERATION  STATUS  TYPE1   TYPE2  HEIGHTM   \n",
       "0           0      Bulbasaur           1  Normal  Grass  Poison      0.7  \\\n",
       "1           1        Ivysaur           1  Normal  Grass  Poison      1.0   \n",
       "2           2       Venusaur           1  Normal  Grass  Poison      2.0   \n",
       "3           3  Mega Venusaur           1  Normal  Grass  Poison      2.4   \n",
       "4           4     Charmander           1  Normal   Fire     NaN      0.6   \n",
       "\n",
       "   WEIGHTKG  ABILITIESNUMBER   ABILITY1  ... AGAINSTGROUND AGAINSTFLYING   \n",
       "0       6.9                2   Overgrow  ...           1.0           2.0  \\\n",
       "1      13.0                2   Overgrow  ...           1.0           2.0   \n",
       "2     100.0                2   Overgrow  ...           1.0           2.0   \n",
       "3     155.5                1  Thick Fat  ...           1.0           2.0   \n",
       "4       8.5                2      Blaze  ...           2.0           1.0   \n",
       "\n",
       "   AGAINSTPSYCHIC  AGAINSTBUG  AGAINSTROCK  AGAINSTGHOST  AGAINSTDRAGON   \n",
       "0             2.0         1.0          1.0           1.0            1.0  \\\n",
       "1             2.0         1.0          1.0           1.0            1.0   \n",
       "2             2.0         1.0          1.0           1.0            1.0   \n",
       "3             2.0         1.0          1.0           1.0            1.0   \n",
       "4             1.0         0.5          2.0           1.0            1.0   \n",
       "\n",
       "   AGAINSTDARK  AGAINSTSTEEL  AGAINSTFAIRY  \n",
       "0          1.0           1.0           0.5  \n",
       "1          1.0           1.0           0.5  \n",
       "2          1.0           1.0           0.5  \n",
       "3          1.0           1.0           0.5  \n",
       "4          1.0           0.5           0.5  \n",
       "\n",
       "[5 rows x 46 columns]"
      ]
     },
     "execution_count": 12,
     "metadata": {},
     "output_type": "execute_result"
    }
   ],
   "source": [
    "#Cambiamos los titulos a Mayusculas\n",
    "df.columns = df.columns.str.upper().str.replace('_', '')\n",
    "df.head()"
   ]
  },
  {
   "cell_type": "code",
   "execution_count": null,
   "metadata": {},
   "outputs": [],
   "source": []
  },
  {
   "cell_type": "code",
   "execution_count": null,
   "metadata": {},
   "outputs": [],
   "source": []
  },
  {
   "cell_type": "code",
   "execution_count": 13,
   "metadata": {},
   "outputs": [
    {
     "ename": "AttributeError",
     "evalue": "Can only use .str accessor with string values!",
     "output_type": "error",
     "traceback": [
      "\u001b[1;31m---------------------------------------------------------------------------\u001b[0m",
      "\u001b[1;31mAttributeError\u001b[0m                            Traceback (most recent call last)",
      "Cell \u001b[1;32mIn[13], line 2\u001b[0m\n\u001b[0;32m      1\u001b[0m \u001b[39m#Dentro de la columna nombre cambiamos el atributo Mega ya que es Innecesario\u001b[39;00m\n\u001b[1;32m----> 2\u001b[0m df\u001b[39m.\u001b[39mindex \u001b[39m=\u001b[39m df\u001b[39m.\u001b[39;49mindex\u001b[39m.\u001b[39;49mstr\u001b[39m.\u001b[39mreplace(\u001b[39m\"\u001b[39m\u001b[39m.*(?=Mega)\u001b[39m\u001b[39m\"\u001b[39m, \u001b[39m\"\u001b[39m\u001b[39m\"\u001b[39m)\n\u001b[0;32m      3\u001b[0m df\u001b[39m.\u001b[39mhead(\u001b[39m10\u001b[39m)\n",
      "File \u001b[1;32mc:\\Users\\usuario 1\\AppData\\Local\\Programs\\Python\\Python311\\Lib\\site-packages\\pandas\\core\\accessor.py:224\u001b[0m, in \u001b[0;36mCachedAccessor.__get__\u001b[1;34m(self, obj, cls)\u001b[0m\n\u001b[0;32m    221\u001b[0m \u001b[39mif\u001b[39;00m obj \u001b[39mis\u001b[39;00m \u001b[39mNone\u001b[39;00m:\n\u001b[0;32m    222\u001b[0m     \u001b[39m# we're accessing the attribute of the class, i.e., Dataset.geo\u001b[39;00m\n\u001b[0;32m    223\u001b[0m     \u001b[39mreturn\u001b[39;00m \u001b[39mself\u001b[39m\u001b[39m.\u001b[39m_accessor\n\u001b[1;32m--> 224\u001b[0m accessor_obj \u001b[39m=\u001b[39m \u001b[39mself\u001b[39;49m\u001b[39m.\u001b[39;49m_accessor(obj)\n\u001b[0;32m    225\u001b[0m \u001b[39m# Replace the property with the accessor object. Inspired by:\u001b[39;00m\n\u001b[0;32m    226\u001b[0m \u001b[39m# https://www.pydanny.com/cached-property.html\u001b[39;00m\n\u001b[0;32m    227\u001b[0m \u001b[39m# We need to use object.__setattr__ because we overwrite __setattr__ on\u001b[39;00m\n\u001b[0;32m    228\u001b[0m \u001b[39m# NDFrame\u001b[39;00m\n\u001b[0;32m    229\u001b[0m \u001b[39mobject\u001b[39m\u001b[39m.\u001b[39m\u001b[39m__setattr__\u001b[39m(obj, \u001b[39mself\u001b[39m\u001b[39m.\u001b[39m_name, accessor_obj)\n",
      "File \u001b[1;32mc:\\Users\\usuario 1\\AppData\\Local\\Programs\\Python\\Python311\\Lib\\site-packages\\pandas\\core\\strings\\accessor.py:181\u001b[0m, in \u001b[0;36mStringMethods.__init__\u001b[1;34m(self, data)\u001b[0m\n\u001b[0;32m    178\u001b[0m \u001b[39mdef\u001b[39;00m \u001b[39m__init__\u001b[39m(\u001b[39mself\u001b[39m, data) \u001b[39m-\u001b[39m\u001b[39m>\u001b[39m \u001b[39mNone\u001b[39;00m:\n\u001b[0;32m    179\u001b[0m     \u001b[39mfrom\u001b[39;00m \u001b[39mpandas\u001b[39;00m\u001b[39m.\u001b[39;00m\u001b[39mcore\u001b[39;00m\u001b[39m.\u001b[39;00m\u001b[39marrays\u001b[39;00m\u001b[39m.\u001b[39;00m\u001b[39mstring_\u001b[39;00m \u001b[39mimport\u001b[39;00m StringDtype\n\u001b[1;32m--> 181\u001b[0m     \u001b[39mself\u001b[39m\u001b[39m.\u001b[39m_inferred_dtype \u001b[39m=\u001b[39m \u001b[39mself\u001b[39;49m\u001b[39m.\u001b[39;49m_validate(data)\n\u001b[0;32m    182\u001b[0m     \u001b[39mself\u001b[39m\u001b[39m.\u001b[39m_is_categorical \u001b[39m=\u001b[39m is_categorical_dtype(data\u001b[39m.\u001b[39mdtype)\n\u001b[0;32m    183\u001b[0m     \u001b[39mself\u001b[39m\u001b[39m.\u001b[39m_is_string \u001b[39m=\u001b[39m \u001b[39misinstance\u001b[39m(data\u001b[39m.\u001b[39mdtype, StringDtype)\n",
      "File \u001b[1;32mc:\\Users\\usuario 1\\AppData\\Local\\Programs\\Python\\Python311\\Lib\\site-packages\\pandas\\core\\strings\\accessor.py:235\u001b[0m, in \u001b[0;36mStringMethods._validate\u001b[1;34m(data)\u001b[0m\n\u001b[0;32m    232\u001b[0m inferred_dtype \u001b[39m=\u001b[39m lib\u001b[39m.\u001b[39minfer_dtype(values, skipna\u001b[39m=\u001b[39m\u001b[39mTrue\u001b[39;00m)\n\u001b[0;32m    234\u001b[0m \u001b[39mif\u001b[39;00m inferred_dtype \u001b[39mnot\u001b[39;00m \u001b[39min\u001b[39;00m allowed_types:\n\u001b[1;32m--> 235\u001b[0m     \u001b[39mraise\u001b[39;00m \u001b[39mAttributeError\u001b[39;00m(\u001b[39m\"\u001b[39m\u001b[39mCan only use .str accessor with string values!\u001b[39m\u001b[39m\"\u001b[39m)\n\u001b[0;32m    236\u001b[0m \u001b[39mreturn\u001b[39;00m inferred_dtype\n",
      "\u001b[1;31mAttributeError\u001b[0m: Can only use .str accessor with string values!"
     ]
    }
   ],
   "source": [
    "#Dentro de la columna nombre cambiamos el atributo Mega ya que es Innecesario\n",
    "df.index = df.index.str.replace(\".*(?=Mega)\", \"\")\n",
    "df.head(10)"
   ]
  },
  {
   "cell_type": "code",
   "execution_count": null,
   "metadata": {},
   "outputs": [],
   "source": [
    "print('Las Columnnas del Dataframe Son: ',df.columns) \n",
    "print('Para este DataFrame contamos con: ',df.shape)  "
   ]
  },
  {
   "cell_type": "code",
   "execution_count": null,
   "metadata": {},
   "outputs": [],
   "source": [
    "#Algunos valores en Type2 estan vacios debemos o Completarlos o eliminarlos, para este caso los reemplazamos\n",
    "df['TYPE2'].fillna(df['TYPE1'], inplace=True)"
   ]
  },
  {
   "cell_type": "code",
   "execution_count": null,
   "metadata": {},
   "outputs": [],
   "source": [
    "#Traemos los detalles de Cualquier Pokemon\n",
    "print(df.loc['Pikachu']) \n",
    "print(df.iloc[0])\n",
    "print(df.iloc[0]) \n",
    "print(df.loc['Pikachu'])"
   ]
  },
  {
   "cell_type": "code",
   "execution_count": null,
   "metadata": {},
   "outputs": [],
   "source": [
    "#Prueba Logica para filtrar Pokemons Que cumplan las condiciones dadas\n",
    "df[((df['TYPE1']=='Ghost') | (df['TYPE1']=='Dragon')) & ((df['TYPE2']=='Fairy') | (df['TYPE2']=='Fire'))]\n"
   ]
  },
  {
   "cell_type": "code",
   "execution_count": null,
   "metadata": {},
   "outputs": [],
   "source": [
    "print(\"MAx HP:\",df['HP'].idxmax()) #Devuelve el pokemon con mayor ataque\n",
    "print(\"Max DEFENCE:\",(df['DEFENSE']).idxmax())#Devuelve el pokemon con la mejor defensa"
   ]
  },
  {
   "cell_type": "code",
   "execution_count": null,
   "metadata": {},
   "outputs": [],
   "source": [
    "#Organizamos el dataframe de mayor a menor, sumando el total de habilidades de cada uno\n",
    "df.sort_values('TOTALPOINTS',ascending=False).head(5)"
   ]
  },
  {
   "cell_type": "code",
   "execution_count": null,
   "metadata": {},
   "outputs": [],
   "source": [
    "print('Categorias por Pokemon',df['TYPE1'].unique()) \n",
    "print('En total tenemos ',df['TYPE1'].nunique())"
   ]
  },
  {
   "cell_type": "code",
   "execution_count": null,
   "metadata": {},
   "outputs": [],
   "source": [
    "#Realizamos conteo de cuantos Pokemon tenemos por categoria\n",
    "print(df['TYPE1'].value_counts(), '\\n' ,df['TYPE2'].value_counts())\n",
    "df.groupby(['TYPE1']).size()  \n",
    "(df['TYPE1']=='Bug').sum()"
   ]
  },
  {
   "cell_type": "code",
   "execution_count": null,
   "metadata": {},
   "outputs": [],
   "source": [
    "#Con el metodo describe podemos ver rapidamente una estadistica rapida de nuestro dataframe\n",
    "df_summary = df.describe() \n",
    "df_summary"
   ]
  },
  {
   "cell_type": "code",
   "execution_count": null,
   "metadata": {},
   "outputs": [],
   "source": [
    "#Visualizaciones\n",
    "# Histograma En esta visualizacion notamos que el ataque promedio de los pokemon esta sobre los 75\n",
    "\n",
    "bins=range(0,200,25) \n",
    "plt.hist(df[\"ATTACK\"],bins,histtype=\"bar\",rwidth=1,color='#0ff0ff') \n",
    "plt.xlabel('Ataque') \n",
    "plt.ylabel('Cantidad') \n",
    "plt.axvline(df['ATTACK'].mean(),linestyle='dashed',color='black') \n",
    "plt.show()"
   ]
  },
  {
   "cell_type": "code",
   "execution_count": null,
   "metadata": {},
   "outputs": [],
   "source": [
    "#Grafico de Dispersion, muestra una comparacion de los 50 pokemon de agua vs Fuego con relacion a defensa y ataque\n",
    "fire=df[(df['TYPE1']=='Fire') | ((df['TYPE2'])==\"Fire\")] \n",
    "water=df[(df['TYPE1']=='Water') | ((df['TYPE2'])==\"Water\")]  \n",
    "plt.scatter(fire.ATTACK.head(50),fire.DEFENSE.head(50),color='red',label='Fuego',marker=\"*\",s=30) \n",
    "plt.scatter(water.ATTACK.head(50),water.DEFENSE.head(50),color='blue',label=\"Agua\",s=30)\n",
    "plt.xlabel(\"Ataque\")\n",
    "plt.ylabel(\"Defensa\")\n",
    "plt.legend()\n",
    "plt.plot()\n",
    "fig=plt.gcf() \n",
    "fig.set_size_inches(10,6) \n",
    "plt.show()"
   ]
  },
  {
   "cell_type": "code",
   "execution_count": null,
   "metadata": {},
   "outputs": [],
   "source": [
    "#Pokemon mas fuertes por Tipo de Pokemon\n",
    "\n",
    "strong=df.sort_values(by='TOTALPOINTS', ascending=False) \n",
    "strong.drop_duplicates(subset=['TYPE1'],keep='first').head(10)"
   ]
  },
  {
   "cell_type": "code",
   "execution_count": null,
   "metadata": {},
   "outputs": [],
   "source": [
    "#Ahora queremos ver la distribuicion de los pokemon\n",
    "labels = 'Water', 'Normal', 'Grass', 'Bug', 'Psychic', 'Fire', 'Electric', 'Rock', 'Other',\n",
    "sizes = [112, 98, 70, 69, 57, 52, 44, 44, 175]\n",
    "colors = ['yellow', 'b', '#00ff00', 'c', 'r', 'g', 'silver', 'y', 'm']\n",
    "explode = (0.2, 0, 0, 0, 0, 0, 0, 0, 0)  \n",
    "plt.pie(sizes, explode=explode, labels=labels, colors=colors, autopct='%1.1f%%', shadow=True, startangle=90)\n",
    "plt.axis('equal')\n",
    "plt.title(\"Porcentaje Tipos Diferentes de Pokemon\")\n",
    "fig=plt.gcf()\n",
    "fig.set_size_inches(5,5)\n",
    "plt.show()"
   ]
  },
  {
   "cell_type": "code",
   "execution_count": null,
   "metadata": {},
   "outputs": [],
   "source": [
    "\n",
    "df2=df.drop(['REFERENCIE','TOTALPOINTS','HEIGHTM','GENERATION',],axis=1)\n",
    "sns.boxplot(data=df2)\n",
    "plt.xticks(rotation=90, fontsize=8)\n",
    "plt.tick_params(axis='x', pad=10)\n",
    "plt.ylim(0,1200)  #change the scale of y axix\n",
    "\n",
    "plt.show()\n"
   ]
  },
  {
   "cell_type": "code",
   "execution_count": null,
   "metadata": {},
   "outputs": [],
   "source": [
    "plt.subplots(figsize = (10,4))\n",
    "plt.title('Attack by Type1')\n",
    "plt.xticks(rotation=90, fontsize=8)\n",
    "sns.boxplot(x = \"TYPE1\", y = \"ATTACK\",data = df)\n",
    "plt.ylim(0,200)\n",
    "plt.show()"
   ]
  },
  {
   "cell_type": "code",
   "execution_count": null,
   "metadata": {},
   "outputs": [],
   "source": [
    "plt.subplots(figsize = (10,4))\n",
    "plt.title('Attack by Type2')\n",
    "plt.xticks(rotation=90, fontsize=8)\n",
    "sns.boxplot(x = \"TYPE2\", y = \"ATTACK\",data=df)\n",
    "plt.show()"
   ]
  },
  {
   "cell_type": "code",
   "execution_count": null,
   "metadata": {},
   "outputs": [],
   "source": [
    "plt.subplots(figsize = (10,4))\n",
    "plt.title('Defence by Type')\n",
    "plt.xticks(rotation=90, fontsize=8)\n",
    "sns.boxplot(x = \"TYPE1\", y = \"DEFENSE\",data = df)\n",
    "plt.show()"
   ]
  },
  {
   "cell_type": "code",
   "execution_count": 15,
   "metadata": {},
   "outputs": [
    {
     "data": {
      "image/png": "[encoded data removed]",
      "text/plain": [
       "<Figure size 900x500 with 1 Axes>"
      ]
     },
     "metadata": {},
     "output_type": "display_data"
    }
   ],
   "source": [
    "plt.subplots(figsize = (9,5))\n",
    "plt.title('Attack by Type1')\n",
    "plt.xticks(rotation=90, fontsize=12)\n",
    "sns.violinplot(x = \"TYPE1\", y = \"ATTACK\",data = df)\n",
    "plt.ylim(0,250)\n",
    "plt.show()"
   ]
  },
  {
   "cell_type": "code",
   "execution_count": 14,
   "metadata": {},
   "outputs": [
    {
     "data": {
      "application/vnd.plotly.v1+json": {
       "config": {
        "plotlyServerURL": "https://plot.ly"
       },
       "data": [
        {
         "hovertemplate": "<b>%{hovertext}</b><br><br>TYPE2=Poison<br>GENERATION=1<br>TYPE1=%{x}<br>TOTALPOINTS=%{y}<extra></extra>",
         "hovertext": [
          "Bulbasaur",
          "Ivysaur",
          "Venusaur",
          "Mega Venusaur",
          "Weedle",
          "Kakuna",
          "Beedrill",
          "Mega Beedrill",
          "Oddish",
          "Gloom",
          "Vileplume",
          "Venonat",
          "Venomoth",
          "Bellsprout",
          "Weepinbell",
          "Victreebel",
          "Tentacool",
          "Tentacruel",
          "Gastly",
          "Haunter",
          "Gengar",
          "Mega Gengar"
         ],
         "ids": [
          "Poison",
          "Poison",
          "Poison",
          "Poison",
          "Poison",
          "Poison",
          "Poison",
          "Poison",
          "Poison",
          "Poison",
          "Poison",
          "Poison",
          "Poison",
          "Poison",
          "Poison",
          "Poison",
          "Poison",
          "Poison",
          "Poison",
          "Poison",
          "Poison",
          "Poison"
         ],
         "legendgroup": "Poison",
         "marker": {
          "color": "#636efa",
          "symbol": "circle"
         },
         "mode": "markers",
         "name": "Poison",
         "orientation": "v",
         "showlegend": true,
         "type": "scatter",
         "x": [
          "Grass",
          "Grass",
          "Grass",
          "Grass",
          "Bug",
          "Bug",
          "Bug",
          "Bug",
          "Grass",
          "Grass",
          "Grass",
          "Bug",
          "Bug",
          "Grass",
          "Grass",
          "Grass",
          "Water",
          "Water",
          "Ghost",
          "Ghost",
          "Ghost",
          "Ghost"
         ],
         "xaxis": "x",
         "y": [
          318,
          405,
          525,
          625,
          195,
          205,
          395,
          495,
          320,
          395,
          490,
          305,
          450,
          300,
          390,
          490,
          335,
          515,
          310,
          405,
          500,
          600
         ],
         "yaxis": "y"
        },
        {
         "hovertemplate": "<b>%{hovertext}</b><br><br>TYPE2=Flying<br>GENERATION=1<br>TYPE1=%{x}<br>TOTALPOINTS=%{y}<extra></extra>",
         "hovertext": [
          "Charizard",
          "Mega Charizard Y",
          "Butterfree",
          "Pidgey",
          "Pidgeotto",
          "Pidgeot",
          "Mega Pidgeot",
          "Spearow",
          "Fearow",
          "Zubat",
          "Golbat",
          "Farfetch'd",
          "Doduo",
          "Dodrio",
          "Scyther",
          "Mega Pinsir",
          "Gyarados",
          "Aerodactyl",
          "Mega Aerodactyl",
          "Articuno",
          "Zapdos",
          "Moltres",
          "Dragonite"
         ],
         "ids": [
          "Flying",
          "Flying",
          "Flying",
          "Flying",
          "Flying",
          "Flying",
          "Flying",
          "Flying",
          "Flying",
          "Flying",
          "Flying",
          "Flying",
          "Flying",
          "Flying",
          "Flying",
          "Flying",
          "Flying",
          "Flying",
          "Flying",
          "Flying",
          "Flying",
          "Flying",
          "Flying"
         ],
         "legendgroup": "Flying",
         "marker": {
          "color": "#00cc96",
          "symbol": "circle"
         },
         "mode": "markers",
         "name": "Flying",
         "orientation": "v",
         "showlegend": true,
         "type": "scatter",
         "x": [
          "Fire",
          "Fire",
          "Bug",
          "Normal",
          "Normal",
          "Normal",
          "Normal",
          "Normal",
          "Normal",
          "Poison",
          "Poison",
          "Normal",
          "Normal",
          "Normal",
          "Bug",
          "Bug",
          "Water",
          "Rock",
          "Rock",
          "Ice",
          "Electric",
          "Fire",
          "Dragon"
         ],
         "xaxis": "x",
         "y": [
          534,
          634,
          395,
          251,
          349,
          479,
          579,
          262,
          442,
          245,
          455,
          377,
          310,
          470,
          500,
          600,
          540,
          515,
          615,
          580,
          580,
          580,
          600
         ],
         "yaxis": "y"
        },
        {
         "hovertemplate": "<b>%{hovertext}</b><br><br>TYPE2=Dragon<br>GENERATION=1<br>TYPE1=%{x}<br>TOTALPOINTS=%{y}<extra></extra>",
         "hovertext": [
          "Mega Charizard X",
          "Alolan Exeggutor"
         ],
         "ids": [
          "Dragon",
          "Dragon"
         ],
         "legendgroup": "Dragon",
         "marker": {
          "color": "#ab63fa",
          "symbol": "circle"
         },
         "mode": "markers",
         "name": "Dragon",
         "orientation": "v",
         "showlegend": true,
         "type": "scatter",
         "x": [
          "Fire",
          "Grass"
         ],
         "xaxis": "x",
         "y": [
          634,
          530
         ],
         "yaxis": "y"
        },
        {
         "hovertemplate": "<b>%{hovertext}</b><br><br>TYPE2=Normal<br>GENERATION=1<br>TYPE1=%{x}<br>TOTALPOINTS=%{y}<extra></extra>",
         "hovertext": [
          "Alolan Rattata",
          "Alolan Raticate"
         ],
         "ids": [
          "Normal",
          "Normal"
         ],
         "legendgroup": "Normal",
         "marker": {
          "color": "#FFA15A",
          "symbol": "circle"
         },
         "mode": "markers",
         "name": "Normal",
         "orientation": "v",
         "showlegend": true,
         "type": "scatter",
         "x": [
          "Dark",
          "Dark"
         ],
         "xaxis": "x",
         "y": [
          253,
          413
         ],
         "yaxis": "y"
        },
        {
         "hovertemplate": "<b>%{hovertext}</b><br><br>TYPE2=Psychic<br>GENERATION=1<br>TYPE1=%{x}<br>TOTALPOINTS=%{y}<extra></extra>",
         "hovertext": [
          "Alolan Raichu",
          "Slowpoke",
          "Slowbro",
          "Mega Slowbro",
          "Exeggcute",
          "Exeggutor",
          "Starmie",
          "Jynx"
         ],
         "ids": [
          "Psychic",
          "Psychic",
          "Psychic",
          "Psychic",
          "Psychic",
          "Psychic",
          "Psychic",
          "Psychic"
         ],
         "legendgroup": "Psychic",
         "marker": {
          "color": "#19d3f3",
          "symbol": "circle"
         },
         "mode": "markers",
         "name": "Psychic",
         "orientation": "v",
         "showlegend": true,
         "type": "scatter",
         "x": [
          "Electric",
          "Water",
          "Water",
          "Water",
          "Grass",
          "Grass",
          "Water",
          "Ice"
         ],
         "xaxis": "x",
         "y": [
          485,
          315,
          490,
          590,
          325,
          530,
          520,
          455
         ],
         "yaxis": "y"
        },
        {
         "hovertemplate": "<b>%{hovertext}</b><br><br>TYPE2=Steel<br>GENERATION=1<br>TYPE1=%{x}<br>TOTALPOINTS=%{y}<extra></extra>",
         "hovertext": [
          "Alolan Sandshrew",
          "Alolan Sandslash",
          "Alolan Diglett",
          "Alolan Dugtrio",
          "Magnemite",
          "Magneton"
         ],
         "ids": [
          "Steel",
          "Steel",
          "Steel",
          "Steel",
          "Steel",
          "Steel"
         ],
         "legendgroup": "Steel",
         "marker": {
          "color": "#FF6692",
          "symbol": "circle"
         },
         "mode": "markers",
         "name": "Steel",
         "orientation": "v",
         "showlegend": true,
         "type": "scatter",
         "x": [
          "Ice",
          "Ice",
          "Ground",
          "Ground",
          "Electric",
          "Electric"
         ],
         "xaxis": "x",
         "y": [
          300,
          450,
          265,
          425,
          325,
          465
         ],
         "yaxis": "y"
        },
        {
         "hovertemplate": "<b>%{hovertext}</b><br><br>TYPE2=Ground<br>GENERATION=1<br>TYPE1=%{x}<br>TOTALPOINTS=%{y}<extra></extra>",
         "hovertext": [
          "Nidoqueen",
          "Nidoking",
          "Geodude",
          "Graveler",
          "Golem",
          "Onix"
         ],
         "ids": [
          "Ground",
          "Ground",
          "Ground",
          "Ground",
          "Ground",
          "Ground"
         ],
         "legendgroup": "Ground",
         "marker": {
          "color": "#B6E880",
          "symbol": "circle"
         },
         "mode": "markers",
         "name": "Ground",
         "orientation": "v",
         "showlegend": true,
         "type": "scatter",
         "x": [
          "Poison",
          "Poison",
          "Rock",
          "Rock",
          "Rock",
          "Rock"
         ],
         "xaxis": "x",
         "y": [
          505,
          505,
          300,
          390,
          495,
          385
         ],
         "yaxis": "y"
        },
        {
         "hovertemplate": "<b>%{hovertext}</b><br><br>TYPE2=Fairy<br>GENERATION=1<br>TYPE1=%{x}<br>TOTALPOINTS=%{y}<extra></extra>",
         "hovertext": [
          "Alolan Ninetales",
          "Jigglypuff",
          "Wigglytuff",
          "Galarian Rapidash",
          "Galarian Weezing",
          "Mr. Mime"
         ],
         "ids": [
          "Fairy",
          "Fairy",
          "Fairy",
          "Fairy",
          "Fairy",
          "Fairy"
         ],
         "legendgroup": "Fairy",
         "marker": {
          "color": "#FF97FF",
          "symbol": "circle"
         },
         "mode": "markers",
         "name": "Fairy",
         "orientation": "v",
         "showlegend": true,
         "type": "scatter",
         "x": [
          "Ice",
          "Normal",
          "Normal",
          "Psychic",
          "Poison",
          "Psychic"
         ],
         "xaxis": "x",
         "y": [
          505,
          270,
          435,
          500,
          490,
          460
         ],
         "yaxis": "y"
        },
        {
         "hovertemplate": "<b>%{hovertext}</b><br><br>TYPE2=Grass<br>GENERATION=1<br>TYPE1=%{x}<br>TOTALPOINTS=%{y}<extra></extra>",
         "hovertext": [
          "Paras",
          "Parasect"
         ],
         "ids": [
          "Grass",
          "Grass"
         ],
         "legendgroup": "Grass",
         "marker": {
          "color": "#FECB52",
          "symbol": "circle"
         },
         "mode": "markers",
         "name": "Grass",
         "orientation": "v",
         "showlegend": true,
         "type": "scatter",
         "x": [
          "Bug",
          "Bug"
         ],
         "xaxis": "x",
         "y": [
          285,
          405
         ],
         "yaxis": "y"
        },
        {
         "hovertemplate": "<b>%{hovertext}</b><br><br>TYPE2=Fighting<br>GENERATION=1<br>TYPE1=%{x}<br>TOTALPOINTS=%{y}<extra></extra>",
         "hovertext": [
          "Poliwrath",
          "Mega Mewtwo X"
         ],
         "ids": [
          "Fighting",
          "Fighting"
         ],
         "legendgroup": "Fighting",
         "marker": {
          "color": "#636efa",
          "symbol": "circle"
         },
         "mode": "markers",
         "name": "Fighting",
         "orientation": "v",
         "showlegend": true,
         "type": "scatter",
         "x": [
          "Water",
          "Psychic"
         ],
         "xaxis": "x",
         "y": [
          510,
          780
         ],
         "yaxis": "y"
        },
        {
         "hovertemplate": "<b>%{hovertext}</b><br><br>TYPE2=Electric<br>GENERATION=1<br>TYPE1=%{x}<br>TOTALPOINTS=%{y}<extra></extra>",
         "hovertext": [
          "Alolan Geodude",
          "Alolan Graveler",
          "Alolan Golem"
         ],
         "ids": [
          "Electric",
          "Electric",
          "Electric"
         ],
         "legendgroup": "Electric",
         "marker": {
          "color": "#EF553B",
          "symbol": "circle"
         },
         "mode": "markers",
         "name": "Electric",
         "orientation": "v",
         "showlegend": true,
         "type": "scatter",
         "x": [
          "Rock",
          "Rock",
          "Rock"
         ],
         "xaxis": "x",
         "y": [
          300,
          390,
          495
         ],
         "yaxis": "y"
        },
        {
         "hovertemplate": "<b>%{hovertext}</b><br><br>TYPE2=Ice<br>GENERATION=1<br>TYPE1=%{x}<br>TOTALPOINTS=%{y}<extra></extra>",
         "hovertext": [
          "Dewgong",
          "Cloyster",
          "Galarian Mr. Mime",
          "Lapras"
         ],
         "ids": [
          "Ice",
          "Ice",
          "Ice",
          "Ice"
         ],
         "legendgroup": "Ice",
         "marker": {
          "color": "#00cc96",
          "symbol": "circle"
         },
         "mode": "markers",
         "name": "Ice",
         "orientation": "v",
         "showlegend": true,
         "type": "scatter",
         "x": [
          "Water",
          "Water",
          "Psychic",
          "Water"
         ],
         "xaxis": "x",
         "y": [
          475,
          525,
          460,
          535
         ],
         "yaxis": "y"
        },
        {
         "hovertemplate": "<b>%{hovertext}</b><br><br>TYPE2=Dark<br>GENERATION=1<br>TYPE1=%{x}<br>TOTALPOINTS=%{y}<extra></extra>",
         "hovertext": [
          "Alolan Grimer",
          "Alolan Muk",
          "Mega Gyarados"
         ],
         "ids": [
          "Dark",
          "Dark",
          "Dark"
         ],
         "legendgroup": "Dark",
         "marker": {
          "color": "#ab63fa",
          "symbol": "circle"
         },
         "mode": "markers",
         "name": "Dark",
         "orientation": "v",
         "showlegend": true,
         "type": "scatter",
         "x": [
          "Poison",
          "Poison",
          "Water"
         ],
         "xaxis": "x",
         "y": [
          325,
          500,
          640
         ],
         "yaxis": "y"
        },
        {
         "hovertemplate": "<b>%{hovertext}</b><br><br>TYPE2=Ghost<br>GENERATION=1<br>TYPE1=%{x}<br>TOTALPOINTS=%{y}<extra></extra>",
         "hovertext": [
          "Alolan Marowak"
         ],
         "ids": [
          "Ghost"
         ],
         "legendgroup": "Ghost",
         "marker": {
          "color": "#FFA15A",
          "symbol": "circle"
         },
         "mode": "markers",
         "name": "Ghost",
         "orientation": "v",
         "showlegend": true,
         "type": "scatter",
         "x": [
          "Fire"
         ],
         "xaxis": "x",
         "y": [
          425
         ],
         "yaxis": "y"
        },
        {
         "hovertemplate": "<b>%{hovertext}</b><br><br>TYPE2=Rock<br>GENERATION=1<br>TYPE1=%{x}<br>TOTALPOINTS=%{y}<extra></extra>",
         "hovertext": [
          "Rhyhorn",
          "Rhydon"
         ],
         "ids": [
          "Rock",
          "Rock"
         ],
         "legendgroup": "Rock",
         "marker": {
          "color": "#19d3f3",
          "symbol": "circle"
         },
         "mode": "markers",
         "name": "Rock",
         "orientation": "v",
         "showlegend": true,
         "type": "scatter",
         "x": [
          "Ground",
          "Ground"
         ],
         "xaxis": "x",
         "y": [
          345,
          485
         ],
         "yaxis": "y"
        },
        {
         "hovertemplate": "<b>%{hovertext}</b><br><br>TYPE2=Water<br>GENERATION=1<br>TYPE1=%{x}<br>TOTALPOINTS=%{y}<extra></extra>",
         "hovertext": [
          "Omanyte",
          "Omastar",
          "Kabuto",
          "Kabutops"
         ],
         "ids": [
          "Water",
          "Water",
          "Water",
          "Water"
         ],
         "legendgroup": "Water",
         "marker": {
          "color": "#FF6692",
          "symbol": "circle"
         },
         "mode": "markers",
         "name": "Water",
         "orientation": "v",
         "showlegend": true,
         "type": "scatter",
         "x": [
          "Rock",
          "Rock",
          "Rock",
          "Rock"
         ],
         "xaxis": "x",
         "y": [
          355,
          495,
          355,
          495
         ],
         "yaxis": "y"
        }
       ],
       "frames": [
        {
         "data": [
          {
           "hovertemplate": "<b>%{hovertext}</b><br><br>TYPE2=Poison<br>GENERATION=1<br>TYPE1=%{x}<br>TOTALPOINTS=%{y}<extra></extra>",
           "hovertext": [
            "Bulbasaur",
            "Ivysaur",
            "Venusaur",
            "Mega Venusaur",
            "Weedle",
            "Kakuna",
            "Beedrill",
            "Mega Beedrill",
            "Oddish",
            "Gloom",
            "Vileplume",
            "Venonat",
            "Venomoth",
            "Bellsprout",
            "Weepinbell",
            "Victreebel",
            "Tentacool",
            "Tentacruel",
            "Gastly",
            "Haunter",
            "Gengar",
            "Mega Gengar"
           ],
           "ids": [
            "Poison",
            "Poison",
            "Poison",
            "Poison",
            "Poison",
            "Poison",
            "Poison",
            "Poison",
            "Poison",
            "Poison",
            "Poison",
            "Poison",
            "Poison",
            "Poison",
            "Poison",
            "Poison",
            "Poison",
            "Poison",
            "Poison",
            "Poison",
            "Poison",
            "Poison"
           ],
           "legendgroup": "Poison",
           "marker": {
            "color": "#636efa",
            "symbol": "circle"
           },
           "mode": "markers",
           "name": "Poison",
           "orientation": "v",
           "showlegend": true,
           "type": "scatter",
           "x": [
            "Grass",
            "Grass",
            "Grass",
            "Grass",
            "Bug",
            "Bug",
            "Bug",
            "Bug",
            "Grass",
            "Grass",
            "Grass",
            "Bug",
            "Bug",
            "Grass",
            "Grass",
            "Grass",
            "Water",
            "Water",
            "Ghost",
            "Ghost",
            "Ghost",
            "Ghost"
           ],
           "xaxis": "x",
           "y": [
            318,
            405,
            525,
            625,
            195,
            205,
            395,
            495,
            320,
            395,
            490,
            305,
            450,
            300,
            390,
            490,
            335,
            515,
            310,
            405,
            500,
            600
           ],
           "yaxis": "y"
          },
          {
           "hovertemplate": "<b>%{hovertext}</b><br><br>TYPE2=Flying<br>GENERATION=1<br>TYPE1=%{x}<br>TOTALPOINTS=%{y}<extra></extra>",
           "hovertext": [
            "Charizard",
            "Mega Charizard Y",
            "Butterfree",
            "Pidgey",
            "Pidgeotto",
            "Pidgeot",
            "Mega Pidgeot",
            "Spearow",
            "Fearow",
            "Zubat",
            "Golbat",
            "Farfetch'd",
            "Doduo",
            "Dodrio",
            "Scyther",
            "Mega Pinsir",
            "Gyarados",
            "Aerodactyl",
            "Mega Aerodactyl",
            "Articuno",
            "Zapdos",
            "Moltres",
            "Dragonite"
           ],
           "ids": [
            "Flying",
            "Flying",
            "Flying",
            "Flying",
            "Flying",
            "Flying",
            "Flying",
            "Flying",
            "Flying",
            "Flying",
            "Flying",
            "Flying",
            "Flying",
            "Flying",
            "Flying",
            "Flying",
            "Flying",
            "Flying",
            "Flying",
            "Flying",
            "Flying",
            "Flying",
            "Flying"
           ],
           "legendgroup": "Flying",
           "marker": {
            "color": "#00cc96",
            "symbol": "circle"
           },
           "mode": "markers",
           "name": "Flying",
           "orientation": "v",
           "showlegend": true,
           "type": "scatter",
           "x": [
            "Fire",
            "Fire",
            "Bug",
            "Normal",
            "Normal",
            "Normal",
            "Normal",
            "Normal",
            "Normal",
            "Poison",
            "Poison",
            "Normal",
            "Normal",
            "Normal",
            "Bug",
            "Bug",
            "Water",
            "Rock",
            "Rock",
            "Ice",
            "Electric",
            "Fire",
            "Dragon"
           ],
           "xaxis": "x",
           "y": [
            534,
            634,
            395,
            251,
            349,
            479,
            579,
            262,
            442,
            245,
            455,
            377,
            310,
            470,
            500,
            600,
            540,
            515,
            615,
            580,
            580,
            580,
            600
           ],
           "yaxis": "y"
          },
          {
           "hovertemplate": "<b>%{hovertext}</b><br><br>TYPE2=Dragon<br>GENERATION=1<br>TYPE1=%{x}<br>TOTALPOINTS=%{y}<extra></extra>",
           "hovertext": [
            "Mega Charizard X",
            "Alolan Exeggutor"
           ],
           "ids": [
            "Dragon",
            "Dragon"
           ],
           "legendgroup": "Dragon",
           "marker": {
            "color": "#ab63fa",
            "symbol": "circle"
           },
           "mode": "markers",
           "name": "Dragon",
           "orientation": "v",
           "showlegend": true,
           "type": "scatter",
           "x": [
            "Fire",
            "Grass"
           ],
           "xaxis": "x",
           "y": [
            634,
            530
           ],
           "yaxis": "y"
          },
          {
           "hovertemplate": "<b>%{hovertext}</b><br><br>TYPE2=Normal<br>GENERATION=1<br>TYPE1=%{x}<br>TOTALPOINTS=%{y}<extra></extra>",
           "hovertext": [
            "Alolan Rattata",
            "Alolan Raticate"
           ],
           "ids": [
            "Normal",
            "Normal"
           ],
           "legendgroup": "Normal",
           "marker": {
            "color": "#FFA15A",
            "symbol": "circle"
           },
           "mode": "markers",
           "name": "Normal",
           "orientation": "v",
           "showlegend": true,
           "type": "scatter",
           "x": [
            "Dark",
            "Dark"
           ],
           "xaxis": "x",
           "y": [
            253,
            413
           ],
           "yaxis": "y"
          },
          {
           "hovertemplate": "<b>%{hovertext}</b><br><br>TYPE2=Psychic<br>GENERATION=1<br>TYPE1=%{x}<br>TOTALPOINTS=%{y}<extra></extra>",
           "hovertext": [
            "Alolan Raichu",
            "Slowpoke",
            "Slowbro",
            "Mega Slowbro",
            "Exeggcute",
            "Exeggutor",
            "Starmie",
            "Jynx"
           ],
           "ids": [
            "Psychic",
            "Psychic",
            "Psychic",
            "Psychic",
            "Psychic",
            "Psychic",
            "Psychic",
            "Psychic"
           ],
           "legendgroup": "Psychic",
           "marker": {
            "color": "#19d3f3",
            "symbol": "circle"
           },
           "mode": "markers",
           "name": "Psychic",
           "orientation": "v",
           "showlegend": true,
           "type": "scatter",
           "x": [
            "Electric",
            "Water",
            "Water",
            "Water",
            "Grass",
            "Grass",
            "Water",
            "Ice"
           ],
           "xaxis": "x",
           "y": [
            485,
            315,
            490,
            590,
            325,
            530,
            520,
            455
           ],
           "yaxis": "y"
          },
          {
           "hovertemplate": "<b>%{hovertext}</b><br><br>TYPE2=Steel<br>GENERATION=1<br>TYPE1=%{x}<br>TOTALPOINTS=%{y}<extra></extra>",
           "hovertext": [
            "Alolan Sandshrew",
            "Alolan Sandslash",
            "Alolan Diglett",
            "Alolan Dugtrio",
            "Magnemite",
            "Magneton"
           ],
           "ids": [
            "Steel",
            "Steel",
            "Steel",
            "Steel",
            "Steel",
            "Steel"
           ],
           "legendgroup": "Steel",
           "marker": {
            "color": "#FF6692",
            "symbol": "circle"
           },
           "mode": "markers",
           "name": "Steel",
           "orientation": "v",
           "showlegend": true,
           "type": "scatter",
           "x": [
            "Ice",
            "Ice",
            "Ground",
            "Ground",
            "Electric",
            "Electric"
           ],
           "xaxis": "x",
           "y": [
            300,
            450,
            265,
            425,
            325,
            465
           ],
           "yaxis": "y"
          },
          {
           "hovertemplate": "<b>%{hovertext}</b><br><br>TYPE2=Ground<br>GENERATION=1<br>TYPE1=%{x}<br>TOTALPOINTS=%{y}<extra></extra>",
           "hovertext": [
            "Nidoqueen",
            "Nidoking",
            "Geodude",
            "Graveler",
            "Golem",
            "Onix"
           ],
           "ids": [
            "Ground",
            "Ground",
            "Ground",
            "Ground",
            "Ground",
            "Ground"
           ],
           "legendgroup": "Ground",
           "marker": {
            "color": "#B6E880",
            "symbol": "circle"
           },
           "mode": "markers",
           "name": "Ground",
           "orientation": "v",
           "showlegend": true,
           "type": "scatter",
           "x": [
            "Poison",
            "Poison",
            "Rock",
            "Rock",
            "Rock",
            "Rock"
           ],
           "xaxis": "x",
           "y": [
            505,
            505,
            300,
            390,
            495,
            385
           ],
           "yaxis": "y"
          },
          {
           "hovertemplate": "<b>%{hovertext}</b><br><br>TYPE2=Fairy<br>GENERATION=1<br>TYPE1=%{x}<br>TOTALPOINTS=%{y}<extra></extra>",
           "hovertext": [
            "Alolan Ninetales",
            "Jigglypuff",
            "Wigglytuff",
            "Galarian Rapidash",
            "Galarian Weezing",
            "Mr. Mime"
           ],
           "ids": [
            "Fairy",
            "Fairy",
            "Fairy",
            "Fairy",
            "Fairy",
            "Fairy"
           ],
           "legendgroup": "Fairy",
           "marker": {
            "color": "#FF97FF",
            "symbol": "circle"
           },
           "mode": "markers",
           "name": "Fairy",
           "orientation": "v",
           "showlegend": true,
           "type": "scatter",
           "x": [
            "Ice",
            "Normal",
            "Normal",
            "Psychic",
            "Poison",
            "Psychic"
           ],
           "xaxis": "x",
           "y": [
            505,
            270,
            435,
            500,
            490,
            460
           ],
           "yaxis": "y"
          },
          {
           "hovertemplate": "<b>%{hovertext}</b><br><br>TYPE2=Grass<br>GENERATION=1<br>TYPE1=%{x}<br>TOTALPOINTS=%{y}<extra></extra>",
           "hovertext": [
            "Paras",
            "Parasect"
           ],
           "ids": [
            "Grass",
            "Grass"
           ],
           "legendgroup": "Grass",
           "marker": {
            "color": "#FECB52",
            "symbol": "circle"
           },
           "mode": "markers",
           "name": "Grass",
           "orientation": "v",
           "showlegend": true,
           "type": "scatter",
           "x": [
            "Bug",
            "Bug"
           ],
           "xaxis": "x",
           "y": [
            285,
            405
           ],
           "yaxis": "y"
          },
          {
           "hovertemplate": "<b>%{hovertext}</b><br><br>TYPE2=Fighting<br>GENERATION=1<br>TYPE1=%{x}<br>TOTALPOINTS=%{y}<extra></extra>",
           "hovertext": [
            "Poliwrath",
            "Mega Mewtwo X"
           ],
           "ids": [
            "Fighting",
            "Fighting"
           ],
           "legendgroup": "Fighting",
           "marker": {
            "color": "#636efa",
            "symbol": "circle"
           },
           "mode": "markers",
           "name": "Fighting",
           "orientation": "v",
           "showlegend": true,
           "type": "scatter",
           "x": [
            "Water",
            "Psychic"
           ],
           "xaxis": "x",
           "y": [
            510,
            780
           ],
           "yaxis": "y"
          },
          {
           "hovertemplate": "<b>%{hovertext}</b><br><br>TYPE2=Electric<br>GENERATION=1<br>TYPE1=%{x}<br>TOTALPOINTS=%{y}<extra></extra>",
           "hovertext": [
            "Alolan Geodude",
            "Alolan Graveler",
            "Alolan Golem"
           ],
           "ids": [
            "Electric",
            "Electric",
            "Electric"
           ],
           "legendgroup": "Electric",
           "marker": {
            "color": "#EF553B",
            "symbol": "circle"
           },
           "mode": "markers",
           "name": "Electric",
           "orientation": "v",
           "showlegend": true,
           "type": "scatter",
           "x": [
            "Rock",
            "Rock",
            "Rock"
           ],
           "xaxis": "x",
           "y": [
            300,
            390,
            495
           ],
           "yaxis": "y"
          },
          {
           "hovertemplate": "<b>%{hovertext}</b><br><br>TYPE2=Ice<br>GENERATION=1<br>TYPE1=%{x}<br>TOTALPOINTS=%{y}<extra></extra>",
           "hovertext": [
            "Dewgong",
            "Cloyster",
            "Galarian Mr. Mime",
            "Lapras"
           ],
           "ids": [
            "Ice",
            "Ice",
            "Ice",
            "Ice"
           ],
           "legendgroup": "Ice",
           "marker": {
            "color": "#00cc96",
            "symbol": "circle"
           },
           "mode": "markers",
           "name": "Ice",
           "orientation": "v",
           "showlegend": true,
           "type": "scatter",
           "x": [
            "Water",
            "Water",
            "Psychic",
            "Water"
           ],
           "xaxis": "x",
           "y": [
            475,
            525,
            460,
            535
           ],
           "yaxis": "y"
          },
          {
           "hovertemplate": "<b>%{hovertext}</b><br><br>TYPE2=Dark<br>GENERATION=1<br>TYPE1=%{x}<br>TOTALPOINTS=%{y}<extra></extra>",
           "hovertext": [
            "Alolan Grimer",
            "Alolan Muk",
            "Mega Gyarados"
           ],
           "ids": [
            "Dark",
            "Dark",
            "Dark"
           ],
           "legendgroup": "Dark",
           "marker": {
            "color": "#ab63fa",
            "symbol": "circle"
           },
           "mode": "markers",
           "name": "Dark",
           "orientation": "v",
           "showlegend": true,
           "type": "scatter",
           "x": [
            "Poison",
            "Poison",
            "Water"
           ],
           "xaxis": "x",
           "y": [
            325,
            500,
            640
           ],
           "yaxis": "y"
          },
          {
           "hovertemplate": "<b>%{hovertext}</b><br><br>TYPE2=Ghost<br>GENERATION=1<br>TYPE1=%{x}<br>TOTALPOINTS=%{y}<extra></extra>",
           "hovertext": [
            "Alolan Marowak"
           ],
           "ids": [
            "Ghost"
           ],
           "legendgroup": "Ghost",
           "marker": {
            "color": "#FFA15A",
            "symbol": "circle"
           },
           "mode": "markers",
           "name": "Ghost",
           "orientation": "v",
           "showlegend": true,
           "type": "scatter",
           "x": [
            "Fire"
           ],
           "xaxis": "x",
           "y": [
            425
           ],
           "yaxis": "y"
          },
          {
           "hovertemplate": "<b>%{hovertext}</b><br><br>TYPE2=Rock<br>GENERATION=1<br>TYPE1=%{x}<br>TOTALPOINTS=%{y}<extra></extra>",
           "hovertext": [
            "Rhyhorn",
            "Rhydon"
           ],
           "ids": [
            "Rock",
            "Rock"
           ],
           "legendgroup": "Rock",
           "marker": {
            "color": "#19d3f3",
            "symbol": "circle"
           },
           "mode": "markers",
           "name": "Rock",
           "orientation": "v",
           "showlegend": true,
           "type": "scatter",
           "x": [
            "Ground",
            "Ground"
           ],
           "xaxis": "x",
           "y": [
            345,
            485
           ],
           "yaxis": "y"
          },
          {
           "hovertemplate": "<b>%{hovertext}</b><br><br>TYPE2=Water<br>GENERATION=1<br>TYPE1=%{x}<br>TOTALPOINTS=%{y}<extra></extra>",
           "hovertext": [
            "Omanyte",
            "Omastar",
            "Kabuto",
            "Kabutops"
           ],
           "ids": [
            "Water",
            "Water",
            "Water",
            "Water"
           ],
           "legendgroup": "Water",
           "marker": {
            "color": "#FF6692",
            "symbol": "circle"
           },
           "mode": "markers",
           "name": "Water",
           "orientation": "v",
           "showlegend": true,
           "type": "scatter",
           "x": [
            "Rock",
            "Rock",
            "Rock",
            "Rock"
           ],
           "xaxis": "x",
           "y": [
            355,
            495,
            355,
            495
           ],
           "yaxis": "y"
          }
         ],
         "name": "1"
        },
        {
         "data": [
          {
           "hovertemplate": "<b>%{hovertext}</b><br><br>TYPE2=Poison<br>GENERATION=2<br>TYPE1=%{x}<br>TOTALPOINTS=%{y}<extra></extra>",
           "hovertext": [
            "Spinarak",
            "Ariados",
            "Qwilfish"
           ],
           "ids": [
            "Poison",
            "Poison",
            "Poison"
           ],
           "legendgroup": "Poison",
           "marker": {
            "color": "#636efa",
            "symbol": "circle"
           },
           "mode": "markers",
           "name": "Poison",
           "orientation": "v",
           "showlegend": true,
           "type": "scatter",
           "x": [
            "Bug",
            "Bug",
            "Water"
           ],
           "xaxis": "x",
           "y": [
            250,
            400,
            440
           ],
           "yaxis": "y"
          },
          {
           "hovertemplate": "<b>%{hovertext}</b><br><br>TYPE2=Flying<br>GENERATION=2<br>TYPE1=%{x}<br>TOTALPOINTS=%{y}<extra></extra>",
           "hovertext": [
            "Hoothoot",
            "Noctowl",
            "Ledyba",
            "Ledian",
            "Crobat",
            "Togetic",
            "Natu",
            "Xatu",
            "Hoppip",
            "Skiploom",
            "Jumpluff",
            "Yanma",
            "Murkrow",
            "Gligar",
            "Delibird",
            "Mantine",
            "Skarmory",
            "Lugia",
            "Ho-oh"
           ],
           "ids": [
            "Flying",
            "Flying",
            "Flying",
            "Flying",
            "Flying",
            "Flying",
            "Flying",
            "Flying",
            "Flying",
            "Flying",
            "Flying",
            "Flying",
            "Flying",
            "Flying",
            "Flying",
            "Flying",
            "Flying",
            "Flying",
            "Flying"
           ],
           "legendgroup": "Flying",
           "marker": {
            "color": "#00cc96",
            "symbol": "circle"
           },
           "mode": "markers",
           "name": "Flying",
           "orientation": "v",
           "showlegend": true,
           "type": "scatter",
           "x": [
            "Normal",
            "Normal",
            "Bug",
            "Bug",
            "Poison",
            "Fairy",
            "Psychic",
            "Psychic",
            "Grass",
            "Grass",
            "Grass",
            "Bug",
            "Dark",
            "Ground",
            "Ice",
            "Water",
            "Steel",
            "Psychic",
            "Fire"
           ],
           "xaxis": "x",
           "y": [
            262,
            452,
            265,
            390,
            535,
            405,
            320,
            470,
            250,
            340,
            460,
            390,
            405,
            430,
            330,
            485,
            465,
            680,
            680
           ],
           "yaxis": "y"
          },
          {
           "hovertemplate": "<b>%{hovertext}</b><br><br>TYPE2=Dragon<br>GENERATION=2<br>TYPE1=%{x}<br>TOTALPOINTS=%{y}<extra></extra>",
           "hovertext": [
            "Mega Ampharos",
            "Kingdra"
           ],
           "ids": [
            "Dragon",
            "Dragon"
           ],
           "legendgroup": "Dragon",
           "marker": {
            "color": "#ab63fa",
            "symbol": "circle"
           },
           "mode": "markers",
           "name": "Dragon",
           "orientation": "v",
           "showlegend": true,
           "type": "scatter",
           "x": [
            "Electric",
            "Water"
           ],
           "xaxis": "x",
           "y": [
            610,
            540
           ],
           "yaxis": "y"
          },
          {
           "hovertemplate": "<b>%{hovertext}</b><br><br>TYPE2=Psychic<br>GENERATION=2<br>TYPE1=%{x}<br>TOTALPOINTS=%{y}<extra></extra>",
           "hovertext": [
            "Slowking",
            "Girafarig",
            "Smoochum"
           ],
           "ids": [
            "Psychic",
            "Psychic",
            "Psychic"
           ],
           "legendgroup": "Psychic",
           "marker": {
            "color": "#19d3f3",
            "symbol": "circle"
           },
           "mode": "markers",
           "name": "Psychic",
           "orientation": "v",
           "showlegend": true,
           "type": "scatter",
           "x": [
            "Water",
            "Normal",
            "Ice"
           ],
           "xaxis": "x",
           "y": [
            490,
            455,
            305
           ],
           "yaxis": "y"
          },
          {
           "hovertemplate": "<b>%{hovertext}</b><br><br>TYPE2=Steel<br>GENERATION=2<br>TYPE1=%{x}<br>TOTALPOINTS=%{y}<extra></extra>",
           "hovertext": [
            "Forretress",
            "Scizor",
            "Mega Scizor"
           ],
           "ids": [
            "Steel",
            "Steel",
            "Steel"
           ],
           "legendgroup": "Steel",
           "marker": {
            "color": "#FF6692",
            "symbol": "circle"
           },
           "mode": "markers",
           "name": "Steel",
           "orientation": "v",
           "showlegend": true,
           "type": "scatter",
           "x": [
            "Bug",
            "Bug",
            "Bug"
           ],
           "xaxis": "x",
           "y": [
            465,
            500,
            600
           ],
           "yaxis": "y"
          },
          {
           "hovertemplate": "<b>%{hovertext}</b><br><br>TYPE2=Ground<br>GENERATION=2<br>TYPE1=%{x}<br>TOTALPOINTS=%{y}<extra></extra>",
           "hovertext": [
            "Wooper",
            "Quagsire",
            "Steelix",
            "Mega Steelix",
            "Swinub",
            "Piloswine",
            "Larvitar",
            "Pupitar"
           ],
           "ids": [
            "Ground",
            "Ground",
            "Ground",
            "Ground",
            "Ground",
            "Ground",
            "Ground",
            "Ground"
           ],
           "legendgroup": "Ground",
           "marker": {
            "color": "#B6E880",
            "symbol": "circle"
           },
           "mode": "markers",
           "name": "Ground",
           "orientation": "v",
           "showlegend": true,
           "type": "scatter",
           "x": [
            "Water",
            "Water",
            "Steel",
            "Steel",
            "Ice",
            "Ice",
            "Rock",
            "Rock"
           ],
           "xaxis": "x",
           "y": [
            210,
            430,
            510,
            610,
            250,
            450,
            300,
            410
           ],
           "yaxis": "y"
          },
          {
           "hovertemplate": "<b>%{hovertext}</b><br><br>TYPE2=Fairy<br>GENERATION=2<br>TYPE1=%{x}<br>TOTALPOINTS=%{y}<extra></extra>",
           "hovertext": [
            "Igglybuff",
            "Marill",
            "Azumarill"
           ],
           "ids": [
            "Fairy",
            "Fairy",
            "Fairy"
           ],
           "legendgroup": "Fairy",
           "marker": {
            "color": "#FF97FF",
            "symbol": "circle"
           },
           "mode": "markers",
           "name": "Fairy",
           "orientation": "v",
           "showlegend": true,
           "type": "scatter",
           "x": [
            "Normal",
            "Water",
            "Water"
           ],
           "xaxis": "x",
           "y": [
            210,
            250,
            420
           ],
           "yaxis": "y"
          },
          {
           "hovertemplate": "<b>%{hovertext}</b><br><br>TYPE2=Grass<br>GENERATION=2<br>TYPE1=%{x}<br>TOTALPOINTS=%{y}<extra></extra>",
           "hovertext": [
            "Celebi"
           ],
           "ids": [
            "Grass"
           ],
           "legendgroup": "Grass",
           "marker": {
            "color": "#FECB52",
            "symbol": "circle"
           },
           "mode": "markers",
           "name": "Grass",
           "orientation": "v",
           "showlegend": true,
           "type": "scatter",
           "x": [
            "Psychic"
           ],
           "xaxis": "x",
           "y": [
            600
           ],
           "yaxis": "y"
          },
          {
           "hovertemplate": "<b>%{hovertext}</b><br><br>TYPE2=Fighting<br>GENERATION=2<br>TYPE1=%{x}<br>TOTALPOINTS=%{y}<extra></extra>",
           "hovertext": [
            "Heracross",
            "Mega Heracross"
           ],
           "ids": [
            "Fighting",
            "Fighting"
           ],
           "legendgroup": "Fighting",
           "marker": {
            "color": "#636efa",
            "symbol": "circle"
           },
           "mode": "markers",
           "name": "Fighting",
           "orientation": "v",
           "showlegend": true,
           "type": "scatter",
           "x": [
            "Bug",
            "Bug"
           ],
           "xaxis": "x",
           "y": [
            500,
            600
           ],
           "yaxis": "y"
          },
          {
           "hovertemplate": "<b>%{hovertext}</b><br><br>TYPE2=Electric<br>GENERATION=2<br>TYPE1=%{x}<br>TOTALPOINTS=%{y}<extra></extra>",
           "hovertext": [
            "Chinchou",
            "Lanturn"
           ],
           "ids": [
            "Electric",
            "Electric"
           ],
           "legendgroup": "Electric",
           "marker": {
            "color": "#EF553B",
            "symbol": "circle"
           },
           "mode": "markers",
           "name": "Electric",
           "orientation": "v",
           "showlegend": true,
           "type": "scatter",
           "x": [
            "Water",
            "Water"
           ],
           "xaxis": "x",
           "y": [
            330,
            460
           ],
           "yaxis": "y"
          },
          {
           "hovertemplate": "<b>%{hovertext}</b><br><br>TYPE2=Ice<br>GENERATION=2<br>TYPE1=%{x}<br>TOTALPOINTS=%{y}<extra></extra>",
           "hovertext": [
            "Sneasel"
           ],
           "ids": [
            "Ice"
           ],
           "legendgroup": "Ice",
           "marker": {
            "color": "#00cc96",
            "symbol": "circle"
           },
           "mode": "markers",
           "name": "Ice",
           "orientation": "v",
           "showlegend": true,
           "type": "scatter",
           "x": [
            "Dark"
           ],
           "xaxis": "x",
           "y": [
            430
           ],
           "yaxis": "y"
          },
          {
           "hovertemplate": "<b>%{hovertext}</b><br><br>TYPE2=Dark<br>GENERATION=2<br>TYPE1=%{x}<br>TOTALPOINTS=%{y}<extra></extra>",
           "hovertext": [
            "Tyranitar",
            "Mega Tyranitar"
           ],
           "ids": [
            "Dark",
            "Dark"
           ],
           "legendgroup": "Dark",
           "marker": {
            "color": "#ab63fa",
            "symbol": "circle"
           },
           "mode": "markers",
           "name": "Dark",
           "orientation": "v",
           "showlegend": true,
           "type": "scatter",
           "x": [
            "Rock",
            "Rock"
           ],
           "xaxis": "x",
           "y": [
            600,
            700
           ],
           "yaxis": "y"
          },
          {
           "hovertemplate": "<b>%{hovertext}</b><br><br>TYPE2=Rock<br>GENERATION=2<br>TYPE1=%{x}<br>TOTALPOINTS=%{y}<extra></extra>",
           "hovertext": [
            "Shuckle",
            "Magcargo",
            "Corsola"
           ],
           "ids": [
            "Rock",
            "Rock",
            "Rock"
           ],
           "legendgroup": "Rock",
           "marker": {
            "color": "#19d3f3",
            "symbol": "circle"
           },
           "mode": "markers",
           "name": "Rock",
           "orientation": "v",
           "showlegend": true,
           "type": "scatter",
           "x": [
            "Bug",
            "Fire",
            "Water"
           ],
           "xaxis": "x",
           "y": [
            505,
            430,
            410
           ],
           "yaxis": "y"
          },
          {
           "hovertemplate": "<b>%{hovertext}</b><br><br>TYPE2=Fire<br>GENERATION=2<br>TYPE1=%{x}<br>TOTALPOINTS=%{y}<extra></extra>",
           "hovertext": [
            "Houndour",
            "Houndoom",
            "Mega Houndoom"
           ],
           "ids": [
            "Fire",
            "Fire",
            "Fire"
           ],
           "legendgroup": "Fire",
           "marker": {
            "color": "#B6E880",
            "symbol": "circle"
           },
           "mode": "markers",
           "name": "Fire",
           "orientation": "v",
           "showlegend": true,
           "type": "scatter",
           "x": [
            "Dark",
            "Dark",
            "Dark"
           ],
           "xaxis": "x",
           "y": [
            330,
            500,
            600
           ],
           "yaxis": "y"
          }
         ],
         "name": "2"
        },
        {
         "data": [
          {
           "hovertemplate": "<b>%{hovertext}</b><br><br>TYPE2=Poison<br>GENERATION=3<br>TYPE1=%{x}<br>TOTALPOINTS=%{y}<extra></extra>",
           "hovertext": [
            "Dustox",
            "Roselia"
           ],
           "ids": [
            "Poison",
            "Poison"
           ],
           "legendgroup": "Poison",
           "marker": {
            "color": "#636efa",
            "symbol": "circle"
           },
           "mode": "markers",
           "name": "Poison",
           "orientation": "v",
           "showlegend": true,
           "type": "scatter",
           "x": [
            "Bug",
            "Grass"
           ],
           "xaxis": "x",
           "y": [
            385,
            400
           ],
           "yaxis": "y"
          },
          {
           "hovertemplate": "<b>%{hovertext}</b><br><br>TYPE2=Flying<br>GENERATION=3<br>TYPE1=%{x}<br>TOTALPOINTS=%{y}<extra></extra>",
           "hovertext": [
            "Beautifly",
            "Taillow",
            "Swellow",
            "Wingull",
            "Pelipper",
            "Masquerain",
            "Ninjask",
            "Swablu",
            "Altaria",
            "Tropius",
            "Salamence",
            "Mega Salamence",
            "Rayquaza",
            "Mega Rayquaza"
           ],
           "ids": [
            "Flying",
            "Flying",
            "Flying",
            "Flying",
            "Flying",
            "Flying",
            "Flying",
            "Flying",
            "Flying",
            "Flying",
            "Flying",
            "Flying",
            "Flying",
            "Flying"
           ],
           "legendgroup": "Flying",
           "marker": {
            "color": "#00cc96",
            "symbol": "circle"
           },
           "mode": "markers",
           "name": "Flying",
           "orientation": "v",
           "showlegend": true,
           "type": "scatter",
           "x": [
            "Bug",
            "Normal",
            "Normal",
            "Water",
            "Water",
            "Bug",
            "Bug",
            "Normal",
            "Dragon",
            "Grass",
            "Dragon",
            "Dragon",
            "Dragon",
            "Dragon"
           ],
           "xaxis": "x",
           "y": [
            395,
            270,
            455,
            270,
            440,
            454,
            456,
            310,
            490,
            460,
            600,
            700,
            680,
            780
           ],
           "yaxis": "y"
          },
          {
           "hovertemplate": "<b>%{hovertext}</b><br><br>TYPE2=Dragon<br>GENERATION=3<br>TYPE1=%{x}<br>TOTALPOINTS=%{y}<extra></extra>",
           "hovertext": [
            "Mega Sceptile",
            "Vibrava",
            "Flygon"
           ],
           "ids": [
            "Dragon",
            "Dragon",
            "Dragon"
           ],
           "legendgroup": "Dragon",
           "marker": {
            "color": "#ab63fa",
            "symbol": "circle"
           },
           "mode": "markers",
           "name": "Dragon",
           "orientation": "v",
           "showlegend": true,
           "type": "scatter",
           "x": [
            "Grass",
            "Ground",
            "Ground"
           ],
           "xaxis": "x",
           "y": [
            630,
            340,
            520
           ],
           "yaxis": "y"
          },
          {
           "hovertemplate": "<b>%{hovertext}</b><br><br>TYPE2=Normal<br>GENERATION=3<br>TYPE1=%{x}<br>TOTALPOINTS=%{y}<extra></extra>",
           "hovertext": [
            "Galarian Zigzagoon",
            "Galarian Linoone"
           ],
           "ids": [
            "Normal",
            "Normal"
           ],
           "legendgroup": "Normal",
           "marker": {
            "color": "#FFA15A",
            "symbol": "circle"
           },
           "mode": "markers",
           "name": "Normal",
           "orientation": "v",
           "showlegend": true,
           "type": "scatter",
           "x": [
            "Dark",
            "Dark"
           ],
           "xaxis": "x",
           "y": [
            240,
            420
           ],
           "yaxis": "y"
          },
          {
           "hovertemplate": "<b>%{hovertext}</b><br><br>TYPE2=Psychic<br>GENERATION=3<br>TYPE1=%{x}<br>TOTALPOINTS=%{y}<extra></extra>",
           "hovertext": [
            "Meditite",
            "Medicham",
            "Mega Medicham",
            "Lunatone",
            "Solrock",
            "Baltoy",
            "Claydol",
            "Beldum",
            "Metang",
            "Metagross",
            "Mega Metagross",
            "Latias",
            "Mega Latias",
            "Latios",
            "Mega Latios",
            "Jirachi"
           ],
           "ids": [
            "Psychic",
            "Psychic",
            "Psychic",
            "Psychic",
            "Psychic",
            "Psychic",
            "Psychic",
            "Psychic",
            "Psychic",
            "Psychic",
            "Psychic",
            "Psychic",
            "Psychic",
            "Psychic",
            "Psychic",
            "Psychic"
           ],
           "legendgroup": "Psychic",
           "marker": {
            "color": "#19d3f3",
            "symbol": "circle"
           },
           "mode": "markers",
           "name": "Psychic",
           "orientation": "v",
           "showlegend": true,
           "type": "scatter",
           "x": [
            "Fighting",
            "Fighting",
            "Fighting",
            "Rock",
            "Rock",
            "Ground",
            "Ground",
            "Steel",
            "Steel",
            "Steel",
            "Steel",
            "Dragon",
            "Dragon",
            "Dragon",
            "Dragon",
            "Steel"
           ],
           "xaxis": "x",
           "y": [
            280,
            410,
            510,
            460,
            460,
            300,
            500,
            300,
            420,
            600,
            700,
            600,
            700,
            600,
            700,
            600
           ],
           "yaxis": "y"
          },
          {
           "hovertemplate": "<b>%{hovertext}</b><br><br>TYPE2=Ground<br>GENERATION=3<br>TYPE1=%{x}<br>TOTALPOINTS=%{y}<extra></extra>",
           "hovertext": [
            "Marshtomp",
            "Swampert",
            "Mega Swampert",
            "Nincada",
            "Numel",
            "Camerupt",
            "Mega Camerupt",
            "Barboach",
            "Whiscash"
           ],
           "ids": [
            "Ground",
            "Ground",
            "Ground",
            "Ground",
            "Ground",
            "Ground",
            "Ground",
            "Ground",
            "Ground"
           ],
           "legendgroup": "Ground",
           "marker": {
            "color": "#B6E880",
            "symbol": "circle"
           },
           "mode": "markers",
           "name": "Ground",
           "orientation": "v",
           "showlegend": true,
           "type": "scatter",
           "x": [
            "Water",
            "Water",
            "Water",
            "Bug",
            "Fire",
            "Fire",
            "Fire",
            "Water",
            "Water"
           ],
           "xaxis": "x",
           "y": [
            405,
            535,
            635,
            266,
            305,
            460,
            560,
            288,
            468
           ],
           "yaxis": "y"
          },
          {
           "hovertemplate": "<b>%{hovertext}</b><br><br>TYPE2=Fairy<br>GENERATION=3<br>TYPE1=%{x}<br>TOTALPOINTS=%{y}<extra></extra>",
           "hovertext": [
            "Ralts",
            "Kirlia",
            "Gardevoir",
            "Mega Gardevoir",
            "Azurill",
            "Mawile",
            "Mega Mawile",
            "Mega Altaria"
           ],
           "ids": [
            "Fairy",
            "Fairy",
            "Fairy",
            "Fairy",
            "Fairy",
            "Fairy",
            "Fairy",
            "Fairy"
           ],
           "legendgroup": "Fairy",
           "marker": {
            "color": "#FF97FF",
            "symbol": "circle"
           },
           "mode": "markers",
           "name": "Fairy",
           "orientation": "v",
           "showlegend": true,
           "type": "scatter",
           "x": [
            "Psychic",
            "Psychic",
            "Psychic",
            "Psychic",
            "Normal",
            "Steel",
            "Steel",
            "Dragon"
           ],
           "xaxis": "x",
           "y": [
            198,
            278,
            518,
            618,
            190,
            380,
            480,
            590
           ],
           "yaxis": "y"
          },
          {
           "hovertemplate": "<b>%{hovertext}</b><br><br>TYPE2=Grass<br>GENERATION=3<br>TYPE1=%{x}<br>TOTALPOINTS=%{y}<extra></extra>",
           "hovertext": [
            "Lotad",
            "Lombre",
            "Ludicolo",
            "Lileep",
            "Cradily"
           ],
           "ids": [
            "Grass",
            "Grass",
            "Grass",
            "Grass",
            "Grass"
           ],
           "legendgroup": "Grass",
           "marker": {
            "color": "#FECB52",
            "symbol": "circle"
           },
           "mode": "markers",
           "name": "Grass",
           "orientation": "v",
           "showlegend": true,
           "type": "scatter",
           "x": [
            "Water",
            "Water",
            "Water",
            "Rock",
            "Rock"
           ],
           "xaxis": "x",
           "y": [
            220,
            340,
            480,
            355,
            495
           ],
           "yaxis": "y"
          },
          {
           "hovertemplate": "<b>%{hovertext}</b><br><br>TYPE2=Fighting<br>GENERATION=3<br>TYPE1=%{x}<br>TOTALPOINTS=%{y}<extra></extra>",
           "hovertext": [
            "Combusken",
            "Blaziken",
            "Mega Blaziken",
            "Breloom"
           ],
           "ids": [
            "Fighting",
            "Fighting",
            "Fighting",
            "Fighting"
           ],
           "legendgroup": "Fighting",
           "marker": {
            "color": "#636efa",
            "symbol": "circle"
           },
           "mode": "markers",
           "name": "Fighting",
           "orientation": "v",
           "showlegend": true,
           "type": "scatter",
           "x": [
            "Fire",
            "Fire",
            "Fire",
            "Grass"
           ],
           "xaxis": "x",
           "y": [
            405,
            530,
            630,
            460
           ],
           "yaxis": "y"
          },
          {
           "hovertemplate": "<b>%{hovertext}</b><br><br>TYPE2=Dark<br>GENERATION=3<br>TYPE1=%{x}<br>TOTALPOINTS=%{y}<extra></extra>",
           "hovertext": [
            "Nuzleaf",
            "Shiftry",
            "Carvanha",
            "Sharpedo",
            "Mega Sharpedo",
            "Cacturne",
            "Crawdaunt"
           ],
           "ids": [
            "Dark",
            "Dark",
            "Dark",
            "Dark",
            "Dark",
            "Dark",
            "Dark"
           ],
           "legendgroup": "Dark",
           "marker": {
            "color": "#ab63fa",
            "symbol": "circle"
           },
           "mode": "markers",
           "name": "Dark",
           "orientation": "v",
           "showlegend": true,
           "type": "scatter",
           "x": [
            "Grass",
            "Grass",
            "Water",
            "Water",
            "Water",
            "Grass",
            "Water"
           ],
           "xaxis": "x",
           "y": [
            340,
            480,
            305,
            460,
            560,
            475,
            468
           ],
           "yaxis": "y"
          },
          {
           "hovertemplate": "<b>%{hovertext}</b><br><br>TYPE2=Ghost<br>GENERATION=3<br>TYPE1=%{x}<br>TOTALPOINTS=%{y}<extra></extra>",
           "hovertext": [
            "Shedinja",
            "Sableye",
            "Mega Sableye"
           ],
           "ids": [
            "Ghost",
            "Ghost",
            "Ghost"
           ],
           "legendgroup": "Ghost",
           "marker": {
            "color": "#FFA15A",
            "symbol": "circle"
           },
           "mode": "markers",
           "name": "Ghost",
           "orientation": "v",
           "showlegend": true,
           "type": "scatter",
           "x": [
            "Bug",
            "Dark",
            "Dark"
           ],
           "xaxis": "x",
           "y": [
            236,
            380,
            480
           ],
           "yaxis": "y"
          },
          {
           "hovertemplate": "<b>%{hovertext}</b><br><br>TYPE2=Rock<br>GENERATION=3<br>TYPE1=%{x}<br>TOTALPOINTS=%{y}<extra></extra>",
           "hovertext": [
            "Aron",
            "Lairon",
            "Aggron",
            "Relicanth"
           ],
           "ids": [
            "Rock",
            "Rock",
            "Rock",
            "Rock"
           ],
           "legendgroup": "Rock",
           "marker": {
            "color": "#19d3f3",
            "symbol": "circle"
           },
           "mode": "markers",
           "name": "Rock",
           "orientation": "v",
           "showlegend": true,
           "type": "scatter",
           "x": [
            "Steel",
            "Steel",
            "Steel",
            "Water"
           ],
           "xaxis": "x",
           "y": [
            330,
            430,
            530,
            485
           ],
           "yaxis": "y"
          },
          {
           "hovertemplate": "<b>%{hovertext}</b><br><br>TYPE2=Water<br>GENERATION=3<br>TYPE1=%{x}<br>TOTALPOINTS=%{y}<extra></extra>",
           "hovertext": [
            "Surskit",
            "Spheal",
            "Sealeo",
            "Walrein"
           ],
           "ids": [
            "Water",
            "Water",
            "Water",
            "Water"
           ],
           "legendgroup": "Water",
           "marker": {
            "color": "#FF6692",
            "symbol": "circle"
           },
           "mode": "markers",
           "name": "Water",
           "orientation": "v",
           "showlegend": true,
           "type": "scatter",
           "x": [
            "Bug",
            "Ice",
            "Ice",
            "Ice"
           ],
           "xaxis": "x",
           "y": [
            269,
            290,
            410,
            530
           ],
           "yaxis": "y"
          },
          {
           "hovertemplate": "<b>%{hovertext}</b><br><br>TYPE2=Fire<br>GENERATION=3<br>TYPE1=%{x}<br>TOTALPOINTS=%{y}<extra></extra>",
           "hovertext": [
            "Primal Groudon"
           ],
           "ids": [
            "Fire"
           ],
           "legendgroup": "Fire",
           "marker": {
            "color": "#B6E880",
            "symbol": "circle"
           },
           "mode": "markers",
           "name": "Fire",
           "orientation": "v",
           "showlegend": true,
           "type": "scatter",
           "x": [
            "Ground"
           ],
           "xaxis": "x",
           "y": [
            770
           ],
           "yaxis": "y"
          },
          {
           "hovertemplate": "<b>%{hovertext}</b><br><br>TYPE2=Bug<br>GENERATION=3<br>TYPE1=%{x}<br>TOTALPOINTS=%{y}<extra></extra>",
           "hovertext": [
            "Anorith",
            "Armaldo"
           ],
           "ids": [
            "Bug",
            "Bug"
           ],
           "legendgroup": "Bug",
           "marker": {
            "color": "#FF97FF",
            "symbol": "circle"
           },
           "mode": "markers",
           "name": "Bug",
           "orientation": "v",
           "showlegend": true,
           "type": "scatter",
           "x": [
            "Rock",
            "Rock"
           ],
           "xaxis": "x",
           "y": [
            355,
            495
           ],
           "yaxis": "y"
          }
         ],
         "name": "3"
        },
        {
         "data": [
          {
           "hovertemplate": "<b>%{hovertext}</b><br><br>TYPE2=Poison<br>GENERATION=4<br>TYPE1=%{x}<br>TOTALPOINTS=%{y}<extra></extra>",
           "hovertext": [
            "Budew",
            "Roserade"
           ],
           "ids": [
            "Poison",
            "Poison"
           ],
           "legendgroup": "Poison",
           "marker": {
            "color": "#636efa",
            "symbol": "circle"
           },
           "mode": "markers",
           "name": "Poison",
           "orientation": "v",
           "showlegend": true,
           "type": "scatter",
           "x": [
            "Grass",
            "Grass"
           ],
           "xaxis": "x",
           "y": [
            280,
            515
           ],
           "yaxis": "y"
          },
          {
           "hovertemplate": "<b>%{hovertext}</b><br><br>TYPE2=Flying<br>GENERATION=4<br>TYPE1=%{x}<br>TOTALPOINTS=%{y}<extra></extra>",
           "hovertext": [
            "Starly",
            "Staravia",
            "Staraptor",
            "Mothim",
            "Combee",
            "Vespiquen",
            "Drifloon",
            "Drifblim",
            "Honchkrow",
            "Chatot",
            "Mantyke",
            "Togekiss",
            "Yanmega",
            "Gliscor",
            "Fan Rotom",
            "Shaymin Sky Forme"
           ],
           "ids": [
            "Flying",
            "Flying",
            "Flying",
            "Flying",
            "Flying",
            "Flying",
            "Flying",
            "Flying",
            "Flying",
            "Flying",
            "Flying",
            "Flying",
            "Flying",
            "Flying",
            "Flying",
            "Flying"
           ],
           "legendgroup": "Flying",
           "marker": {
            "color": "#00cc96",
            "symbol": "circle"
           },
           "mode": "markers",
           "name": "Flying",
           "orientation": "v",
           "showlegend": true,
           "type": "scatter",
           "x": [
            "Normal",
            "Normal",
            "Normal",
            "Bug",
            "Bug",
            "Bug",
            "Ghost",
            "Ghost",
            "Dark",
            "Normal",
            "Water",
            "Fairy",
            "Bug",
            "Ground",
            "Electric",
            "Grass"
           ],
           "xaxis": "x",
           "y": [
            245,
            340,
            485,
            424,
            244,
            474,
            348,
            498,
            505,
            411,
            345,
            545,
            515,
            510,
            520,
            600
           ],
           "yaxis": "y"
          },
          {
           "hovertemplate": "<b>%{hovertext}</b><br><br>TYPE2=Dragon<br>GENERATION=4<br>TYPE1=%{x}<br>TOTALPOINTS=%{y}<extra></extra>",
           "hovertext": [
            "Dialga",
            "Palkia",
            "Giratina Altered Forme",
            "Giratina Origin Forme"
           ],
           "ids": [
            "Dragon",
            "Dragon",
            "Dragon",
            "Dragon"
           ],
           "legendgroup": "Dragon",
           "marker": {
            "color": "#ab63fa",
            "symbol": "circle"
           },
           "mode": "markers",
           "name": "Dragon",
           "orientation": "v",
           "showlegend": true,
           "type": "scatter",
           "x": [
            "Steel",
            "Water",
            "Ghost",
            "Ghost"
           ],
           "xaxis": "x",
           "y": [
            680,
            680,
            680,
            680
           ],
           "yaxis": "y"
          },
          {
           "hovertemplate": "<b>%{hovertext}</b><br><br>TYPE2=Psychic<br>GENERATION=4<br>TYPE1=%{x}<br>TOTALPOINTS=%{y}<extra></extra>",
           "hovertext": [
            "Bronzor",
            "Bronzong"
           ],
           "ids": [
            "Psychic",
            "Psychic"
           ],
           "legendgroup": "Psychic",
           "marker": {
            "color": "#19d3f3",
            "symbol": "circle"
           },
           "mode": "markers",
           "name": "Psychic",
           "orientation": "v",
           "showlegend": true,
           "type": "scatter",
           "x": [
            "Steel",
            "Steel"
           ],
           "xaxis": "x",
           "y": [
            300,
            500
           ],
           "yaxis": "y"
          },
          {
           "hovertemplate": "<b>%{hovertext}</b><br><br>TYPE2=Steel<br>GENERATION=4<br>TYPE1=%{x}<br>TOTALPOINTS=%{y}<extra></extra>",
           "hovertext": [
            "Empoleon",
            "Shieldon",
            "Bastiodon",
            "Wormadam Trash Cloak",
            "Lucario",
            "Mega Lucario",
            "Magnezone",
            "Probopass",
            "Heatran"
           ],
           "ids": [
            "Steel",
            "Steel",
            "Steel",
            "Steel",
            "Steel",
            "Steel",
            "Steel",
            "Steel",
            "Steel"
           ],
           "legendgroup": "Steel",
           "marker": {
            "color": "#FF6692",
            "symbol": "circle"
           },
           "mode": "markers",
           "name": "Steel",
           "orientation": "v",
           "showlegend": true,
           "type": "scatter",
           "x": [
            "Water",
            "Rock",
            "Rock",
            "Bug",
            "Fighting",
            "Fighting",
            "Electric",
            "Rock",
            "Fire"
           ],
           "xaxis": "x",
           "y": [
            530,
            350,
            495,
            424,
            525,
            625,
            535,
            525,
            600
           ],
           "yaxis": "y"
          },
          {
           "hovertemplate": "<b>%{hovertext}</b><br><br>TYPE2=Ground<br>GENERATION=4<br>TYPE1=%{x}<br>TOTALPOINTS=%{y}<extra></extra>",
           "hovertext": [
            "Torterra",
            "Wormadam Sandy Cloak",
            "Gastrodon",
            "Gible",
            "Gabite",
            "Garchomp",
            "Mega Garchomp",
            "Mamoswine"
           ],
           "ids": [
            "Ground",
            "Ground",
            "Ground",
            "Ground",
            "Ground",
            "Ground",
            "Ground",
            "Ground"
           ],
           "legendgroup": "Ground",
           "marker": {
            "color": "#B6E880",
            "symbol": "circle"
           },
           "mode": "markers",
           "name": "Ground",
           "orientation": "v",
           "showlegend": true,
           "type": "scatter",
           "x": [
            "Grass",
            "Bug",
            "Water",
            "Dragon",
            "Dragon",
            "Dragon",
            "Dragon",
            "Ice"
           ],
           "xaxis": "x",
           "y": [
            525,
            424,
            475,
            300,
            410,
            600,
            700,
            530
           ],
           "yaxis": "y"
          },
          {
           "hovertemplate": "<b>%{hovertext}</b><br><br>TYPE2=Fairy<br>GENERATION=4<br>TYPE1=%{x}<br>TOTALPOINTS=%{y}<extra></extra>",
           "hovertext": [
            "Mime Jr."
           ],
           "ids": [
            "Fairy"
           ],
           "legendgroup": "Fairy",
           "marker": {
            "color": "#FF97FF",
            "symbol": "circle"
           },
           "mode": "markers",
           "name": "Fairy",
           "orientation": "v",
           "showlegend": true,
           "type": "scatter",
           "x": [
            "Psychic"
           ],
           "xaxis": "x",
           "y": [
            310
           ],
           "yaxis": "y"
          },
          {
           "hovertemplate": "<b>%{hovertext}</b><br><br>TYPE2=Grass<br>GENERATION=4<br>TYPE1=%{x}<br>TOTALPOINTS=%{y}<extra></extra>",
           "hovertext": [
            "Wormadam Plant Cloak",
            "Mow Rotom"
           ],
           "ids": [
            "Grass",
            "Grass"
           ],
           "legendgroup": "Grass",
           "marker": {
            "color": "#FECB52",
            "symbol": "circle"
           },
           "mode": "markers",
           "name": "Grass",
           "orientation": "v",
           "showlegend": true,
           "type": "scatter",
           "x": [
            "Bug",
            "Electric"
           ],
           "xaxis": "x",
           "y": [
            424,
            520
           ],
           "yaxis": "y"
          },
          {
           "hovertemplate": "<b>%{hovertext}</b><br><br>TYPE2=Fighting<br>GENERATION=4<br>TYPE1=%{x}<br>TOTALPOINTS=%{y}<extra></extra>",
           "hovertext": [
            "Monferno",
            "Infernape",
            "Mega Lopunny",
            "Croagunk",
            "Toxicroak",
            "Gallade",
            "Mega Gallade"
           ],
           "ids": [
            "Fighting",
            "Fighting",
            "Fighting",
            "Fighting",
            "Fighting",
            "Fighting",
            "Fighting"
           ],
           "legendgroup": "Fighting",
           "marker": {
            "color": "#636efa",
            "symbol": "circle"
           },
           "mode": "markers",
           "name": "Fighting",
           "orientation": "v",
           "showlegend": true,
           "type": "scatter",
           "x": [
            "Fire",
            "Fire",
            "Normal",
            "Poison",
            "Poison",
            "Psychic",
            "Psychic"
           ],
           "xaxis": "x",
           "y": [
            405,
            534,
            580,
            300,
            490,
            518,
            618
           ],
           "yaxis": "y"
          },
          {
           "hovertemplate": "<b>%{hovertext}</b><br><br>TYPE2=Ice<br>GENERATION=4<br>TYPE1=%{x}<br>TOTALPOINTS=%{y}<extra></extra>",
           "hovertext": [
            "Snover",
            "Abomasnow",
            "Mega Abomasnow",
            "Weavile",
            "Frost Rotom"
           ],
           "ids": [
            "Ice",
            "Ice",
            "Ice",
            "Ice",
            "Ice"
           ],
           "legendgroup": "Ice",
           "marker": {
            "color": "#00cc96",
            "symbol": "circle"
           },
           "mode": "markers",
           "name": "Ice",
           "orientation": "v",
           "showlegend": true,
           "type": "scatter",
           "x": [
            "Grass",
            "Grass",
            "Grass",
            "Dark",
            "Electric"
           ],
           "xaxis": "x",
           "y": [
            334,
            494,
            594,
            510,
            520
           ],
           "yaxis": "y"
          },
          {
           "hovertemplate": "<b>%{hovertext}</b><br><br>TYPE2=Dark<br>GENERATION=4<br>TYPE1=%{x}<br>TOTALPOINTS=%{y}<extra></extra>",
           "hovertext": [
            "Stunky",
            "Skuntank",
            "Spiritomb",
            "Drapion"
           ],
           "ids": [
            "Dark",
            "Dark",
            "Dark",
            "Dark"
           ],
           "legendgroup": "Dark",
           "marker": {
            "color": "#ab63fa",
            "symbol": "circle"
           },
           "mode": "markers",
           "name": "Dark",
           "orientation": "v",
           "showlegend": true,
           "type": "scatter",
           "x": [
            "Poison",
            "Poison",
            "Ghost",
            "Poison"
           ],
           "xaxis": "x",
           "y": [
            329,
            479,
            485,
            500
           ],
           "yaxis": "y"
          },
          {
           "hovertemplate": "<b>%{hovertext}</b><br><br>TYPE2=Ghost<br>GENERATION=4<br>TYPE1=%{x}<br>TOTALPOINTS=%{y}<extra></extra>",
           "hovertext": [
            "Froslass",
            "Rotom"
           ],
           "ids": [
            "Ghost",
            "Ghost"
           ],
           "legendgroup": "Ghost",
           "marker": {
            "color": "#FFA15A",
            "symbol": "circle"
           },
           "mode": "markers",
           "name": "Ghost",
           "orientation": "v",
           "showlegend": true,
           "type": "scatter",
           "x": [
            "Ice",
            "Electric"
           ],
           "xaxis": "x",
           "y": [
            480,
            440
           ],
           "yaxis": "y"
          },
          {
           "hovertemplate": "<b>%{hovertext}</b><br><br>TYPE2=Rock<br>GENERATION=4<br>TYPE1=%{x}<br>TOTALPOINTS=%{y}<extra></extra>",
           "hovertext": [
            "Rhyperior"
           ],
           "ids": [
            "Rock"
           ],
           "legendgroup": "Rock",
           "marker": {
            "color": "#19d3f3",
            "symbol": "circle"
           },
           "mode": "markers",
           "name": "Rock",
           "orientation": "v",
           "showlegend": true,
           "type": "scatter",
           "x": [
            "Ground"
           ],
           "xaxis": "x",
           "y": [
            535
           ],
           "yaxis": "y"
          },
          {
           "hovertemplate": "<b>%{hovertext}</b><br><br>TYPE2=Water<br>GENERATION=4<br>TYPE1=%{x}<br>TOTALPOINTS=%{y}<extra></extra>",
           "hovertext": [
            "Bibarel",
            "Wash Rotom"
           ],
           "ids": [
            "Water",
            "Water"
           ],
           "legendgroup": "Water",
           "marker": {
            "color": "#FF6692",
            "symbol": "circle"
           },
           "mode": "markers",
           "name": "Water",
           "orientation": "v",
           "showlegend": true,
           "type": "scatter",
           "x": [
            "Normal",
            "Electric"
           ],
           "xaxis": "x",
           "y": [
            410,
            520
           ],
           "yaxis": "y"
          },
          {
           "hovertemplate": "<b>%{hovertext}</b><br><br>TYPE2=Fire<br>GENERATION=4<br>TYPE1=%{x}<br>TOTALPOINTS=%{y}<extra></extra>",
           "hovertext": [
            "Heat Rotom"
           ],
           "ids": [
            "Fire"
           ],
           "legendgroup": "Fire",
           "marker": {
            "color": "#B6E880",
            "symbol": "circle"
           },
           "mode": "markers",
           "name": "Fire",
           "orientation": "v",
           "showlegend": true,
           "type": "scatter",
           "x": [
            "Electric"
           ],
           "xaxis": "x",
           "y": [
            520
           ],
           "yaxis": "y"
          },
          {
           "hovertemplate": "<b>%{hovertext}</b><br><br>TYPE2=Bug<br>GENERATION=4<br>TYPE1=%{x}<br>TOTALPOINTS=%{y}<extra></extra>",
           "hovertext": [
            "Skorupi"
           ],
           "ids": [
            "Bug"
           ],
           "legendgroup": "Bug",
           "marker": {
            "color": "#FF97FF",
            "symbol": "circle"
           },
           "mode": "markers",
           "name": "Bug",
           "orientation": "v",
           "showlegend": true,
           "type": "scatter",
           "x": [
            "Poison"
           ],
           "xaxis": "x",
           "y": [
            330
           ],
           "yaxis": "y"
          }
         ],
         "name": "4"
        },
        {
         "data": [
          {
           "hovertemplate": "<b>%{hovertext}</b><br><br>TYPE2=Poison<br>GENERATION=5<br>TYPE1=%{x}<br>TOTALPOINTS=%{y}<extra></extra>",
           "hovertext": [
            "Venipede",
            "Whirlipede",
            "Scolipede",
            "Foongus",
            "Amoonguss"
           ],
           "ids": [
            "Poison",
            "Poison",
            "Poison",
            "Poison",
            "Poison"
           ],
           "legendgroup": "Poison",
           "marker": {
            "color": "#636efa",
            "symbol": "circle"
           },
           "mode": "markers",
           "name": "Poison",
           "orientation": "v",
           "showlegend": true,
           "type": "scatter",
           "x": [
            "Bug",
            "Bug",
            "Bug",
            "Grass",
            "Grass"
           ],
           "xaxis": "x",
           "y": [
            260,
            360,
            485,
            294,
            464
           ],
           "yaxis": "y"
          },
          {
           "hovertemplate": "<b>%{hovertext}</b><br><br>TYPE2=Flying<br>GENERATION=5<br>TYPE1=%{x}<br>TOTALPOINTS=%{y}<extra></extra>",
           "hovertext": [
            "Pidove",
            "Tranquill",
            "Unfezant",
            "Woobat",
            "Swoobat",
            "Sigilyph",
            "Archen",
            "Archeops",
            "Ducklett",
            "Swanna",
            "Emolga",
            "Rufflet",
            "Braviary",
            "Vullaby",
            "Mandibuzz",
            "Thundurus Incarnate Forme",
            "Thundurus Therian Forme",
            "Landorus Incarnate Forme",
            "Landorus Therian Forme"
           ],
           "ids": [
            "Flying",
            "Flying",
            "Flying",
            "Flying",
            "Flying",
            "Flying",
            "Flying",
            "Flying",
            "Flying",
            "Flying",
            "Flying",
            "Flying",
            "Flying",
            "Flying",
            "Flying",
            "Flying",
            "Flying",
            "Flying",
            "Flying"
           ],
           "legendgroup": "Flying",
           "marker": {
            "color": "#00cc96",
            "symbol": "circle"
           },
           "mode": "markers",
           "name": "Flying",
           "orientation": "v",
           "showlegend": true,
           "type": "scatter",
           "x": [
            "Normal",
            "Normal",
            "Normal",
            "Psychic",
            "Psychic",
            "Psychic",
            "Rock",
            "Rock",
            "Water",
            "Water",
            "Electric",
            "Normal",
            "Normal",
            "Dark",
            "Dark",
            "Electric",
            "Electric",
            "Ground",
            "Ground"
           ],
           "xaxis": "x",
           "y": [
            264,
            358,
            488,
            323,
            425,
            490,
            401,
            567,
            305,
            473,
            428,
            350,
            510,
            370,
            510,
            580,
            580,
            600,
            600
           ],
           "yaxis": "y"
          },
          {
           "hovertemplate": "<b>%{hovertext}</b><br><br>TYPE2=Dragon<br>GENERATION=5<br>TYPE1=%{x}<br>TOTALPOINTS=%{y}<extra></extra>",
           "hovertext": [
            "Deino",
            "Zweilous",
            "Hydreigon"
           ],
           "ids": [
            "Dragon",
            "Dragon",
            "Dragon"
           ],
           "legendgroup": "Dragon",
           "marker": {
            "color": "#ab63fa",
            "symbol": "circle"
           },
           "mode": "markers",
           "name": "Dragon",
           "orientation": "v",
           "showlegend": true,
           "type": "scatter",
           "x": [
            "Dark",
            "Dark",
            "Dark"
           ],
           "xaxis": "x",
           "y": [
            300,
            420,
            600
           ],
           "yaxis": "y"
          },
          {
           "hovertemplate": "<b>%{hovertext}</b><br><br>TYPE2=Psychic<br>GENERATION=5<br>TYPE1=%{x}<br>TOTALPOINTS=%{y}<extra></extra>",
           "hovertext": [
            "Darmanitan Zen Mode",
            "Meloetta Aria Forme"
           ],
           "ids": [
            "Psychic",
            "Psychic"
           ],
           "legendgroup": "Psychic",
           "marker": {
            "color": "#19d3f3",
            "symbol": "circle"
           },
           "mode": "markers",
           "name": "Psychic",
           "orientation": "v",
           "showlegend": true,
           "type": "scatter",
           "x": [
            "Fire",
            "Normal"
           ],
           "xaxis": "x",
           "y": [
            540,
            600
           ],
           "yaxis": "y"
          },
          {
           "hovertemplate": "<b>%{hovertext}</b><br><br>TYPE2=Steel<br>GENERATION=5<br>TYPE1=%{x}<br>TOTALPOINTS=%{y}<extra></extra>",
           "hovertext": [
            "Excadrill",
            "Escavalier",
            "Ferroseed",
            "Ferrothorn",
            "Galarian Stunfisk",
            "Pawniard",
            "Bisharp",
            "Durant",
            "Genesect"
           ],
           "ids": [
            "Steel",
            "Steel",
            "Steel",
            "Steel",
            "Steel",
            "Steel",
            "Steel",
            "Steel",
            "Steel"
           ],
           "legendgroup": "Steel",
           "marker": {
            "color": "#FF6692",
            "symbol": "circle"
           },
           "mode": "markers",
           "name": "Steel",
           "orientation": "v",
           "showlegend": true,
           "type": "scatter",
           "x": [
            "Ground",
            "Bug",
            "Grass",
            "Grass",
            "Ground",
            "Dark",
            "Dark",
            "Bug",
            "Bug"
           ],
           "xaxis": "x",
           "y": [
            508,
            495,
            305,
            489,
            471,
            340,
            490,
            484,
            600
           ],
           "yaxis": "y"
          },
          {
           "hovertemplate": "<b>%{hovertext}</b><br><br>TYPE2=Ground<br>GENERATION=5<br>TYPE1=%{x}<br>TOTALPOINTS=%{y}<extra></extra>",
           "hovertext": [
            "Palpitoad",
            "Seismitoad"
           ],
           "ids": [
            "Ground",
            "Ground"
           ],
           "legendgroup": "Ground",
           "marker": {
            "color": "#B6E880",
            "symbol": "circle"
           },
           "mode": "markers",
           "name": "Ground",
           "orientation": "v",
           "showlegend": true,
           "type": "scatter",
           "x": [
            "Water",
            "Water"
           ],
           "xaxis": "x",
           "y": [
            384,
            509
           ],
           "yaxis": "y"
          },
          {
           "hovertemplate": "<b>%{hovertext}</b><br><br>TYPE2=Fairy<br>GENERATION=5<br>TYPE1=%{x}<br>TOTALPOINTS=%{y}<extra></extra>",
           "hovertext": [
            "Mega Audino",
            "Cottonee",
            "Whimsicott"
           ],
           "ids": [
            "Fairy",
            "Fairy",
            "Fairy"
           ],
           "legendgroup": "Fairy",
           "marker": {
            "color": "#FF97FF",
            "symbol": "circle"
           },
           "mode": "markers",
           "name": "Fairy",
           "orientation": "v",
           "showlegend": true,
           "type": "scatter",
           "x": [
            "Normal",
            "Grass",
            "Grass"
           ],
           "xaxis": "x",
           "y": [
            545,
            280,
            480
           ],
           "yaxis": "y"
          },
          {
           "hovertemplate": "<b>%{hovertext}</b><br><br>TYPE2=Grass<br>GENERATION=5<br>TYPE1=%{x}<br>TOTALPOINTS=%{y}<extra></extra>",
           "hovertext": [
            "Sewaddle",
            "Swadloon",
            "Leavanny",
            "Deerling",
            "Sawsbuck"
           ],
           "ids": [
            "Grass",
            "Grass",
            "Grass",
            "Grass",
            "Grass"
           ],
           "legendgroup": "Grass",
           "marker": {
            "color": "#FECB52",
            "symbol": "circle"
           },
           "mode": "markers",
           "name": "Grass",
           "orientation": "v",
           "showlegend": true,
           "type": "scatter",
           "x": [
            "Bug",
            "Bug",
            "Bug",
            "Normal",
            "Normal"
           ],
           "xaxis": "x",
           "y": [
            310,
            380,
            500,
            335,
            475
           ],
           "yaxis": "y"
          },
          {
           "hovertemplate": "<b>%{hovertext}</b><br><br>TYPE2=Fighting<br>GENERATION=5<br>TYPE1=%{x}<br>TOTALPOINTS=%{y}<extra></extra>",
           "hovertext": [
            "Pignite",
            "Emboar",
            "Scraggy",
            "Scrafty",
            "Cobalion",
            "Terrakion",
            "Virizion",
            "Keldeo Ordinary Forme",
            "Keldeo Resolute Forme",
            "Meloetta Pirouette Forme"
           ],
           "ids": [
            "Fighting",
            "Fighting",
            "Fighting",
            "Fighting",
            "Fighting",
            "Fighting",
            "Fighting",
            "Fighting",
            "Fighting",
            "Fighting"
           ],
           "legendgroup": "Fighting",
           "marker": {
            "color": "#636efa",
            "symbol": "circle"
           },
           "mode": "markers",
           "name": "Fighting",
           "orientation": "v",
           "showlegend": true,
           "type": "scatter",
           "x": [
            "Fire",
            "Fire",
            "Dark",
            "Dark",
            "Steel",
            "Rock",
            "Grass",
            "Water",
            "Water",
            "Normal"
           ],
           "xaxis": "x",
           "y": [
            418,
            528,
            348,
            488,
            580,
            580,
            580,
            580,
            580,
            600
           ],
           "yaxis": "y"
          },
          {
           "hovertemplate": "<b>%{hovertext}</b><br><br>TYPE2=Electric<br>GENERATION=5<br>TYPE1=%{x}<br>TOTALPOINTS=%{y}<extra></extra>",
           "hovertext": [
            "Joltik",
            "Galvantula",
            "Stunfisk",
            "Zekrom"
           ],
           "ids": [
            "Electric",
            "Electric",
            "Electric",
            "Electric"
           ],
           "legendgroup": "Electric",
           "marker": {
            "color": "#EF553B",
            "symbol": "circle"
           },
           "mode": "markers",
           "name": "Electric",
           "orientation": "v",
           "showlegend": true,
           "type": "scatter",
           "x": [
            "Bug",
            "Bug",
            "Ground",
            "Dragon"
           ],
           "xaxis": "x",
           "y": [
            319,
            472,
            471,
            680
           ],
           "yaxis": "y"
          },
          {
           "hovertemplate": "<b>%{hovertext}</b><br><br>TYPE2=Ice<br>GENERATION=5<br>TYPE1=%{x}<br>TOTALPOINTS=%{y}<extra></extra>",
           "hovertext": [
            "Kyurem",
            "Black Kyurem",
            "White Kyurem"
           ],
           "ids": [
            "Ice",
            "Ice",
            "Ice"
           ],
           "legendgroup": "Ice",
           "marker": {
            "color": "#00cc96",
            "symbol": "circle"
           },
           "mode": "markers",
           "name": "Ice",
           "orientation": "v",
           "showlegend": true,
           "type": "scatter",
           "x": [
            "Dragon",
            "Dragon",
            "Dragon"
           ],
           "xaxis": "x",
           "y": [
            660,
            700,
            700
           ],
           "yaxis": "y"
          },
          {
           "hovertemplate": "<b>%{hovertext}</b><br><br>TYPE2=Dark<br>GENERATION=5<br>TYPE1=%{x}<br>TOTALPOINTS=%{y}<extra></extra>",
           "hovertext": [
            "Sandile",
            "Krokorok",
            "Krookodile"
           ],
           "ids": [
            "Dark",
            "Dark",
            "Dark"
           ],
           "legendgroup": "Dark",
           "marker": {
            "color": "#ab63fa",
            "symbol": "circle"
           },
           "mode": "markers",
           "name": "Dark",
           "orientation": "v",
           "showlegend": true,
           "type": "scatter",
           "x": [
            "Ground",
            "Ground",
            "Ground"
           ],
           "xaxis": "x",
           "y": [
            292,
            351,
            519
           ],
           "yaxis": "y"
          },
          {
           "hovertemplate": "<b>%{hovertext}</b><br><br>TYPE2=Ghost<br>GENERATION=5<br>TYPE1=%{x}<br>TOTALPOINTS=%{y}<extra></extra>",
           "hovertext": [
            "Galarian Yamask",
            "Frillish",
            "Jellicent",
            "Golett",
            "Golurk"
           ],
           "ids": [
            "Ghost",
            "Ghost",
            "Ghost",
            "Ghost",
            "Ghost"
           ],
           "legendgroup": "Ghost",
           "marker": {
            "color": "#FFA15A",
            "symbol": "circle"
           },
           "mode": "markers",
           "name": "Ghost",
           "orientation": "v",
           "showlegend": true,
           "type": "scatter",
           "x": [
            "Ground",
            "Water",
            "Water",
            "Ground",
            "Ground"
           ],
           "xaxis": "x",
           "y": [
            303,
            335,
            480,
            303,
            483
           ],
           "yaxis": "y"
          },
          {
           "hovertemplate": "<b>%{hovertext}</b><br><br>TYPE2=Rock<br>GENERATION=5<br>TYPE1=%{x}<br>TOTALPOINTS=%{y}<extra></extra>",
           "hovertext": [
            "Dwebble",
            "Crustle",
            "Tirtouga",
            "Carracosta"
           ],
           "ids": [
            "Rock",
            "Rock",
            "Rock",
            "Rock"
           ],
           "legendgroup": "Rock",
           "marker": {
            "color": "#19d3f3",
            "symbol": "circle"
           },
           "mode": "markers",
           "name": "Rock",
           "orientation": "v",
           "showlegend": true,
           "type": "scatter",
           "x": [
            "Bug",
            "Bug",
            "Water",
            "Water"
           ],
           "xaxis": "x",
           "y": [
            325,
            485,
            355,
            495
           ],
           "yaxis": "y"
          },
          {
           "hovertemplate": "<b>%{hovertext}</b><br><br>TYPE2=Fire<br>GENERATION=5<br>TYPE1=%{x}<br>TOTALPOINTS=%{y}<extra></extra>",
           "hovertext": [
            "Victini",
            "Darmanitan Galarian Zen Mode",
            "Litwick",
            "Lampent",
            "Chandelure",
            "Larvesta",
            "Volcarona",
            "Reshiram"
           ],
           "ids": [
            "Fire",
            "Fire",
            "Fire",
            "Fire",
            "Fire",
            "Fire",
            "Fire",
            "Fire"
           ],
           "legendgroup": "Fire",
           "marker": {
            "color": "#B6E880",
            "symbol": "circle"
           },
           "mode": "markers",
           "name": "Fire",
           "orientation": "v",
           "showlegend": true,
           "type": "scatter",
           "x": [
            "Psychic",
            "Ice",
            "Ghost",
            "Ghost",
            "Ghost",
            "Bug",
            "Bug",
            "Dragon"
           ],
           "xaxis": "x",
           "y": [
            600,
            540,
            275,
            370,
            520,
            360,
            550,
            680
           ],
           "yaxis": "y"
          }
         ],
         "name": "5"
        },
        {
         "data": [
          {
           "hovertemplate": "<b>%{hovertext}</b><br><br>TYPE2=Flying<br>GENERATION=6<br>TYPE1=%{x}<br>TOTALPOINTS=%{y}<extra></extra>",
           "hovertext": [
            "Fletchling",
            "Fletchinder",
            "Talonflame",
            "Vivillon",
            "Hawlucha",
            "Yveltal"
           ],
           "ids": [
            "Flying",
            "Flying",
            "Flying",
            "Flying",
            "Flying",
            "Flying"
           ],
           "legendgroup": "Flying",
           "marker": {
            "color": "#00cc96",
            "symbol": "circle"
           },
           "mode": "markers",
           "name": "Flying",
           "orientation": "v",
           "showlegend": true,
           "type": "scatter",
           "x": [
            "Normal",
            "Fire",
            "Fire",
            "Bug",
            "Fighting",
            "Dark"
           ],
           "xaxis": "x",
           "y": [
            278,
            382,
            499,
            411,
            500,
            680
           ],
           "yaxis": "y"
          },
          {
           "hovertemplate": "<b>%{hovertext}</b><br><br>TYPE2=Dragon<br>GENERATION=6<br>TYPE1=%{x}<br>TOTALPOINTS=%{y}<extra></extra>",
           "hovertext": [
            "Dragalge",
            "Tyrunt",
            "Tyrantrum",
            "Noibat",
            "Noivern"
           ],
           "ids": [
            "Dragon",
            "Dragon",
            "Dragon",
            "Dragon",
            "Dragon"
           ],
           "legendgroup": "Dragon",
           "marker": {
            "color": "#ab63fa",
            "symbol": "circle"
           },
           "mode": "markers",
           "name": "Dragon",
           "orientation": "v",
           "showlegend": true,
           "type": "scatter",
           "x": [
            "Poison",
            "Rock",
            "Rock",
            "Flying",
            "Flying"
           ],
           "xaxis": "x",
           "y": [
            494,
            362,
            521,
            245,
            535
           ],
           "yaxis": "y"
          },
          {
           "hovertemplate": "<b>%{hovertext}</b><br><br>TYPE2=Normal<br>GENERATION=6<br>TYPE1=%{x}<br>TOTALPOINTS=%{y}<extra></extra>",
           "hovertext": [
            "Litleo",
            "Pyroar",
            "Helioptile",
            "Heliolisk"
           ],
           "ids": [
            "Normal",
            "Normal",
            "Normal",
            "Normal"
           ],
           "legendgroup": "Normal",
           "marker": {
            "color": "#FFA15A",
            "symbol": "circle"
           },
           "mode": "markers",
           "name": "Normal",
           "orientation": "v",
           "showlegend": true,
           "type": "scatter",
           "x": [
            "Fire",
            "Fire",
            "Electric",
            "Electric"
           ],
           "xaxis": "x",
           "y": [
            369,
            507,
            289,
            481
           ],
           "yaxis": "y"
          },
          {
           "hovertemplate": "<b>%{hovertext}</b><br><br>TYPE2=Psychic<br>GENERATION=6<br>TYPE1=%{x}<br>TOTALPOINTS=%{y}<extra></extra>",
           "hovertext": [
            "Delphox",
            "Inkay",
            "Malamar"
           ],
           "ids": [
            "Psychic",
            "Psychic",
            "Psychic"
           ],
           "legendgroup": "Psychic",
           "marker": {
            "color": "#19d3f3",
            "symbol": "circle"
           },
           "mode": "markers",
           "name": "Psychic",
           "orientation": "v",
           "showlegend": true,
           "type": "scatter",
           "x": [
            "Fire",
            "Dark",
            "Dark"
           ],
           "xaxis": "x",
           "y": [
            534,
            288,
            482
           ],
           "yaxis": "y"
          },
          {
           "hovertemplate": "<b>%{hovertext}</b><br><br>TYPE2=Ground<br>GENERATION=6<br>TYPE1=%{x}<br>TOTALPOINTS=%{y}<extra></extra>",
           "hovertext": [
            "Diggersby",
            "Zygarde 50% Forme",
            "Zygarde 10% Forme",
            "Zygarde Complete Forme"
           ],
           "ids": [
            "Ground",
            "Ground",
            "Ground",
            "Ground"
           ],
           "legendgroup": "Ground",
           "marker": {
            "color": "#B6E880",
            "symbol": "circle"
           },
           "mode": "markers",
           "name": "Ground",
           "orientation": "v",
           "showlegend": true,
           "type": "scatter",
           "x": [
            "Normal",
            "Dragon",
            "Dragon",
            "Dragon"
           ],
           "xaxis": "x",
           "y": [
            423,
            600,
            486,
            708
           ],
           "yaxis": "y"
          },
          {
           "hovertemplate": "<b>%{hovertext}</b><br><br>TYPE2=Fairy<br>GENERATION=6<br>TYPE1=%{x}<br>TOTALPOINTS=%{y}<extra></extra>",
           "hovertext": [
            "Dedenne",
            "Carbink",
            "Klefki",
            "Diancie",
            "Mega Diancie"
           ],
           "ids": [
            "Fairy",
            "Fairy",
            "Fairy",
            "Fairy",
            "Fairy"
           ],
           "legendgroup": "Fairy",
           "marker": {
            "color": "#FF97FF",
            "symbol": "circle"
           },
           "mode": "markers",
           "name": "Fairy",
           "orientation": "v",
           "showlegend": true,
           "type": "scatter",
           "x": [
            "Electric",
            "Rock",
            "Steel",
            "Rock",
            "Rock"
           ],
           "xaxis": "x",
           "y": [
            431,
            500,
            470,
            600,
            700
           ],
           "yaxis": "y"
          },
          {
           "hovertemplate": "<b>%{hovertext}</b><br><br>TYPE2=Grass<br>GENERATION=6<br>TYPE1=%{x}<br>TOTALPOINTS=%{y}<extra></extra>",
           "hovertext": [
            "Phantump",
            "Trevenant",
            "Pumpkaboo Average Size",
            "Pumpkaboo Small Size",
            "Pumpkaboo Large Size",
            "Pumpkaboo Super Size",
            "Gourgeist Average Size",
            "Gourgeist Small Size",
            "Gourgeist Large Size",
            "Gourgeist Super Size"
           ],
           "ids": [
            "Grass",
            "Grass",
            "Grass",
            "Grass",
            "Grass",
            "Grass",
            "Grass",
            "Grass",
            "Grass",
            "Grass"
           ],
           "legendgroup": "Grass",
           "marker": {
            "color": "#FECB52",
            "symbol": "circle"
           },
           "mode": "markers",
           "name": "Grass",
           "orientation": "v",
           "showlegend": true,
           "type": "scatter",
           "x": [
            "Ghost",
            "Ghost",
            "Ghost",
            "Ghost",
            "Ghost",
            "Ghost",
            "Ghost",
            "Ghost",
            "Ghost",
            "Ghost"
           ],
           "xaxis": "x",
           "y": [
            309,
            474,
            335,
            335,
            335,
            335,
            494,
            494,
            494,
            494
           ],
           "yaxis": "y"
          },
          {
           "hovertemplate": "<b>%{hovertext}</b><br><br>TYPE2=Fighting<br>GENERATION=6<br>TYPE1=%{x}<br>TOTALPOINTS=%{y}<extra></extra>",
           "hovertext": [
            "Chesnaught"
           ],
           "ids": [
            "Fighting"
           ],
           "legendgroup": "Fighting",
           "marker": {
            "color": "#636efa",
            "symbol": "circle"
           },
           "mode": "markers",
           "name": "Fighting",
           "orientation": "v",
           "showlegend": true,
           "type": "scatter",
           "x": [
            "Grass"
           ],
           "xaxis": "x",
           "y": [
            530
           ],
           "yaxis": "y"
          },
          {
           "hovertemplate": "<b>%{hovertext}</b><br><br>TYPE2=Ice<br>GENERATION=6<br>TYPE1=%{x}<br>TOTALPOINTS=%{y}<extra></extra>",
           "hovertext": [
            "Amaura",
            "Aurorus"
           ],
           "ids": [
            "Ice",
            "Ice"
           ],
           "legendgroup": "Ice",
           "marker": {
            "color": "#00cc96",
            "symbol": "circle"
           },
           "mode": "markers",
           "name": "Ice",
           "orientation": "v",
           "showlegend": true,
           "type": "scatter",
           "x": [
            "Rock",
            "Rock"
           ],
           "xaxis": "x",
           "y": [
            362,
            521
           ],
           "yaxis": "y"
          },
          {
           "hovertemplate": "<b>%{hovertext}</b><br><br>TYPE2=Dark<br>GENERATION=6<br>TYPE1=%{x}<br>TOTALPOINTS=%{y}<extra></extra>",
           "hovertext": [
            "Greninja",
            "Ash-Greninja",
            "Pangoro",
            "Hoopa Hoopa Unbound"
           ],
           "ids": [
            "Dark",
            "Dark",
            "Dark",
            "Dark"
           ],
           "legendgroup": "Dark",
           "marker": {
            "color": "#ab63fa",
            "symbol": "circle"
           },
           "mode": "markers",
           "name": "Dark",
           "orientation": "v",
           "showlegend": true,
           "type": "scatter",
           "x": [
            "Water",
            "Water",
            "Fighting",
            "Psychic"
           ],
           "xaxis": "x",
           "y": [
            530,
            640,
            495,
            680
           ],
           "yaxis": "y"
          },
          {
           "hovertemplate": "<b>%{hovertext}</b><br><br>TYPE2=Ghost<br>GENERATION=6<br>TYPE1=%{x}<br>TOTALPOINTS=%{y}<extra></extra>",
           "hovertext": [
            "Honedge",
            "Doublade",
            "Aegislash Blade Forme",
            "Aegislash Shield Forme",
            "Hoopa Hoopa Confined"
           ],
           "ids": [
            "Ghost",
            "Ghost",
            "Ghost",
            "Ghost",
            "Ghost"
           ],
           "legendgroup": "Ghost",
           "marker": {
            "color": "#FFA15A",
            "symbol": "circle"
           },
           "mode": "markers",
           "name": "Ghost",
           "orientation": "v",
           "showlegend": true,
           "type": "scatter",
           "x": [
            "Steel",
            "Steel",
            "Steel",
            "Steel",
            "Psychic"
           ],
           "xaxis": "x",
           "y": [
            325,
            448,
            520,
            520,
            600
           ],
           "yaxis": "y"
          },
          {
           "hovertemplate": "<b>%{hovertext}</b><br><br>TYPE2=Water<br>GENERATION=6<br>TYPE1=%{x}<br>TOTALPOINTS=%{y}<extra></extra>",
           "hovertext": [
            "Binacle",
            "Barbaracle",
            "Skrelp",
            "Volcanion"
           ],
           "ids": [
            "Water",
            "Water",
            "Water",
            "Water"
           ],
           "legendgroup": "Water",
           "marker": {
            "color": "#FF6692",
            "symbol": "circle"
           },
           "mode": "markers",
           "name": "Water",
           "orientation": "v",
           "showlegend": true,
           "type": "scatter",
           "x": [
            "Rock",
            "Rock",
            "Poison",
            "Fire"
           ],
           "xaxis": "x",
           "y": [
            306,
            500,
            320,
            600
           ],
           "yaxis": "y"
          }
         ],
         "name": "6"
        },
        {
         "data": [
          {
           "hovertemplate": "<b>%{hovertext}</b><br><br>TYPE2=Poison<br>GENERATION=7<br>TYPE1=%{x}<br>TOTALPOINTS=%{y}<extra></extra>",
           "hovertext": [
            "Nihilego"
           ],
           "ids": [
            "Poison"
           ],
           "legendgroup": "Poison",
           "marker": {
            "color": "#636efa",
            "symbol": "circle"
           },
           "mode": "markers",
           "name": "Poison",
           "orientation": "v",
           "showlegend": true,
           "type": "scatter",
           "x": [
            "Rock"
           ],
           "xaxis": "x",
           "y": [
            570
           ],
           "yaxis": "y"
          },
          {
           "hovertemplate": "<b>%{hovertext}</b><br><br>TYPE2=Flying<br>GENERATION=7<br>TYPE1=%{x}<br>TOTALPOINTS=%{y}<extra></extra>",
           "hovertext": [
            "Rowlet",
            "Dartrix",
            "Pikipek",
            "Trumbeak",
            "Toucannon",
            "Oricorio Baile Style",
            "Oricorio Pom-Pom Style",
            "Oricorio Pa'u Style",
            "Oricorio Sensu Style",
            "Minior Meteor Form",
            "Minior Core Form",
            "Celesteela"
           ],
           "ids": [
            "Flying",
            "Flying",
            "Flying",
            "Flying",
            "Flying",
            "Flying",
            "Flying",
            "Flying",
            "Flying",
            "Flying",
            "Flying",
            "Flying"
           ],
           "legendgroup": "Flying",
           "marker": {
            "color": "#00cc96",
            "symbol": "circle"
           },
           "mode": "markers",
           "name": "Flying",
           "orientation": "v",
           "showlegend": true,
           "type": "scatter",
           "x": [
            "Grass",
            "Grass",
            "Normal",
            "Normal",
            "Normal",
            "Fire",
            "Electric",
            "Psychic",
            "Ghost",
            "Rock",
            "Rock",
            "Steel"
           ],
           "xaxis": "x",
           "y": [
            320,
            420,
            265,
            355,
            485,
            476,
            476,
            476,
            476,
            440,
            500,
            570
           ],
           "yaxis": "y"
          },
          {
           "hovertemplate": "<b>%{hovertext}</b><br><br>TYPE2=Dragon<br>GENERATION=7<br>TYPE1=%{x}<br>TOTALPOINTS=%{y}<extra></extra>",
           "hovertext": [
            "Turtonator",
            "Drampa",
            "Guzzlord",
            "Ultra Necrozma",
            "Naganadel"
           ],
           "ids": [
            "Dragon",
            "Dragon",
            "Dragon",
            "Dragon",
            "Dragon"
           ],
           "legendgroup": "Dragon",
           "marker": {
            "color": "#ab63fa",
            "symbol": "circle"
           },
           "mode": "markers",
           "name": "Dragon",
           "orientation": "v",
           "showlegend": true,
           "type": "scatter",
           "x": [
            "Fire",
            "Normal",
            "Dark",
            "Psychic",
            "Poison"
           ],
           "xaxis": "x",
           "y": [
            485,
            485,
            570,
            754,
            540
           ],
           "yaxis": "y"
          },
          {
           "hovertemplate": "<b>%{hovertext}</b><br><br>TYPE2=Psychic<br>GENERATION=7<br>TYPE1=%{x}<br>TOTALPOINTS=%{y}<extra></extra>",
           "hovertext": [
            "Oranguru",
            "Bruxish"
           ],
           "ids": [
            "Psychic",
            "Psychic"
           ],
           "legendgroup": "Psychic",
           "marker": {
            "color": "#19d3f3",
            "symbol": "circle"
           },
           "mode": "markers",
           "name": "Psychic",
           "orientation": "v",
           "showlegend": true,
           "type": "scatter",
           "x": [
            "Normal",
            "Water"
           ],
           "xaxis": "x",
           "y": [
            490,
            475
           ],
           "yaxis": "y"
          },
          {
           "hovertemplate": "<b>%{hovertext}</b><br><br>TYPE2=Steel<br>GENERATION=7<br>TYPE1=%{x}<br>TOTALPOINTS=%{y}<extra></extra>",
           "hovertext": [
            "Togedemaru",
            "Solgaleo",
            "Kartana",
            "Dusk Mane Necrozma",
            "Stakataka"
           ],
           "ids": [
            "Steel",
            "Steel",
            "Steel",
            "Steel",
            "Steel"
           ],
           "legendgroup": "Steel",
           "marker": {
            "color": "#FF6692",
            "symbol": "circle"
           },
           "mode": "markers",
           "name": "Steel",
           "orientation": "v",
           "showlegend": true,
           "type": "scatter",
           "x": [
            "Electric",
            "Psychic",
            "Grass",
            "Psychic",
            "Rock"
           ],
           "xaxis": "x",
           "y": [
            435,
            680,
            570,
            680,
            570
           ],
           "yaxis": "y"
          },
          {
           "hovertemplate": "<b>%{hovertext}</b><br><br>TYPE2=Ground<br>GENERATION=7<br>TYPE1=%{x}<br>TOTALPOINTS=%{y}<extra></extra>",
           "hovertext": [
            "Sandygast",
            "Palossand"
           ],
           "ids": [
            "Ground",
            "Ground"
           ],
           "legendgroup": "Ground",
           "marker": {
            "color": "#B6E880",
            "symbol": "circle"
           },
           "mode": "markers",
           "name": "Ground",
           "orientation": "v",
           "showlegend": true,
           "type": "scatter",
           "x": [
            "Ghost",
            "Ghost"
           ],
           "xaxis": "x",
           "y": [
            320,
            480
           ],
           "yaxis": "y"
          },
          {
           "hovertemplate": "<b>%{hovertext}</b><br><br>TYPE2=Fairy<br>GENERATION=7<br>TYPE1=%{x}<br>TOTALPOINTS=%{y}<extra></extra>",
           "hovertext": [
            "Primarina",
            "Cutiefly",
            "Ribombee",
            "Morelull",
            "Shiinotic",
            "Mimikyu",
            "Tapu Koko",
            "Tapu Lele",
            "Tapu Bulu",
            "Tapu Fini",
            "Magearna"
           ],
           "ids": [
            "Fairy",
            "Fairy",
            "Fairy",
            "Fairy",
            "Fairy",
            "Fairy",
            "Fairy",
            "Fairy",
            "Fairy",
            "Fairy",
            "Fairy"
           ],
           "legendgroup": "Fairy",
           "marker": {
            "color": "#FF97FF",
            "symbol": "circle"
           },
           "mode": "markers",
           "name": "Fairy",
           "orientation": "v",
           "showlegend": true,
           "type": "scatter",
           "x": [
            "Water",
            "Bug",
            "Bug",
            "Grass",
            "Grass",
            "Ghost",
            "Electric",
            "Psychic",
            "Grass",
            "Water",
            "Steel"
           ],
           "xaxis": "x",
           "y": [
            530,
            304,
            464,
            285,
            405,
            476,
            570,
            570,
            570,
            570,
            600
           ],
           "yaxis": "y"
          },
          {
           "hovertemplate": "<b>%{hovertext}</b><br><br>TYPE2=Grass<br>GENERATION=7<br>TYPE1=%{x}<br>TOTALPOINTS=%{y}<extra></extra>",
           "hovertext": [
            "Dhelmise"
           ],
           "ids": [
            "Grass"
           ],
           "legendgroup": "Grass",
           "marker": {
            "color": "#FECB52",
            "symbol": "circle"
           },
           "mode": "markers",
           "name": "Grass",
           "orientation": "v",
           "showlegend": true,
           "type": "scatter",
           "x": [
            "Ghost"
           ],
           "xaxis": "x",
           "y": [
            517
           ],
           "yaxis": "y"
          },
          {
           "hovertemplate": "<b>%{hovertext}</b><br><br>TYPE2=Fighting<br>GENERATION=7<br>TYPE1=%{x}<br>TOTALPOINTS=%{y}<extra></extra>",
           "hovertext": [
            "Stufful",
            "Bewear",
            "Hakamo-o",
            "Kommo-o",
            "Buzzwole",
            "Pheromosa"
           ],
           "ids": [
            "Fighting",
            "Fighting",
            "Fighting",
            "Fighting",
            "Fighting",
            "Fighting"
           ],
           "legendgroup": "Fighting",
           "marker": {
            "color": "#636efa",
            "symbol": "circle"
           },
           "mode": "markers",
           "name": "Fighting",
           "orientation": "v",
           "showlegend": true,
           "type": "scatter",
           "x": [
            "Normal",
            "Normal",
            "Dragon",
            "Dragon",
            "Bug",
            "Bug"
           ],
           "xaxis": "x",
           "y": [
            340,
            500,
            420,
            600,
            570,
            570
           ],
           "yaxis": "y"
          },
          {
           "hovertemplate": "<b>%{hovertext}</b><br><br>TYPE2=Electric<br>GENERATION=7<br>TYPE1=%{x}<br>TOTALPOINTS=%{y}<extra></extra>",
           "hovertext": [
            "Charjabug",
            "Vikavolt"
           ],
           "ids": [
            "Electric",
            "Electric"
           ],
           "legendgroup": "Electric",
           "marker": {
            "color": "#EF553B",
            "symbol": "circle"
           },
           "mode": "markers",
           "name": "Electric",
           "orientation": "v",
           "showlegend": true,
           "type": "scatter",
           "x": [
            "Bug",
            "Bug"
           ],
           "xaxis": "x",
           "y": [
            400,
            500
           ],
           "yaxis": "y"
          },
          {
           "hovertemplate": "<b>%{hovertext}</b><br><br>TYPE2=Ice<br>GENERATION=7<br>TYPE1=%{x}<br>TOTALPOINTS=%{y}<extra></extra>",
           "hovertext": [
            "Crabominable"
           ],
           "ids": [
            "Ice"
           ],
           "legendgroup": "Ice",
           "marker": {
            "color": "#00cc96",
            "symbol": "circle"
           },
           "mode": "markers",
           "name": "Ice",
           "orientation": "v",
           "showlegend": true,
           "type": "scatter",
           "x": [
            "Fighting"
           ],
           "xaxis": "x",
           "y": [
            478
           ],
           "yaxis": "y"
          },
          {
           "hovertemplate": "<b>%{hovertext}</b><br><br>TYPE2=Dark<br>GENERATION=7<br>TYPE1=%{x}<br>TOTALPOINTS=%{y}<extra></extra>",
           "hovertext": [
            "Incineroar"
           ],
           "ids": [
            "Dark"
           ],
           "legendgroup": "Dark",
           "marker": {
            "color": "#ab63fa",
            "symbol": "circle"
           },
           "mode": "markers",
           "name": "Dark",
           "orientation": "v",
           "showlegend": true,
           "type": "scatter",
           "x": [
            "Fire"
           ],
           "xaxis": "x",
           "y": [
            530
           ],
           "yaxis": "y"
          },
          {
           "hovertemplate": "<b>%{hovertext}</b><br><br>TYPE2=Ghost<br>GENERATION=7<br>TYPE1=%{x}<br>TOTALPOINTS=%{y}<extra></extra>",
           "hovertext": [
            "Decidueye",
            "Lunala",
            "Dawn Wings Necrozma",
            "Marshadow",
            "Blacephalon"
           ],
           "ids": [
            "Ghost",
            "Ghost",
            "Ghost",
            "Ghost",
            "Ghost"
           ],
           "legendgroup": "Ghost",
           "marker": {
            "color": "#FFA15A",
            "symbol": "circle"
           },
           "mode": "markers",
           "name": "Ghost",
           "orientation": "v",
           "showlegend": true,
           "type": "scatter",
           "x": [
            "Grass",
            "Psychic",
            "Psychic",
            "Fighting",
            "Fire"
           ],
           "xaxis": "x",
           "y": [
            530,
            680,
            680,
            600,
            570
           ],
           "yaxis": "y"
          },
          {
           "hovertemplate": "<b>%{hovertext}</b><br><br>TYPE2=Water<br>GENERATION=7<br>TYPE1=%{x}<br>TOTALPOINTS=%{y}<extra></extra>",
           "hovertext": [
            "Mareanie",
            "Toxapex",
            "Wimpod",
            "Golisopod"
           ],
           "ids": [
            "Water",
            "Water",
            "Water",
            "Water"
           ],
           "legendgroup": "Water",
           "marker": {
            "color": "#FF6692",
            "symbol": "circle"
           },
           "mode": "markers",
           "name": "Water",
           "orientation": "v",
           "showlegend": true,
           "type": "scatter",
           "x": [
            "Poison",
            "Poison",
            "Bug",
            "Bug"
           ],
           "xaxis": "x",
           "y": [
            305,
            495,
            230,
            530
           ],
           "yaxis": "y"
          },
          {
           "hovertemplate": "<b>%{hovertext}</b><br><br>TYPE2=Fire<br>GENERATION=7<br>TYPE1=%{x}<br>TOTALPOINTS=%{y}<extra></extra>",
           "hovertext": [
            "Salandit",
            "Salazzle"
           ],
           "ids": [
            "Fire",
            "Fire"
           ],
           "legendgroup": "Fire",
           "marker": {
            "color": "#B6E880",
            "symbol": "circle"
           },
           "mode": "markers",
           "name": "Fire",
           "orientation": "v",
           "showlegend": true,
           "type": "scatter",
           "x": [
            "Poison",
            "Poison"
           ],
           "xaxis": "x",
           "y": [
            320,
            480
           ],
           "yaxis": "y"
          },
          {
           "hovertemplate": "<b>%{hovertext}</b><br><br>TYPE2=Bug<br>GENERATION=7<br>TYPE1=%{x}<br>TOTALPOINTS=%{y}<extra></extra>",
           "hovertext": [
            "Dewpider",
            "Araquanid"
           ],
           "ids": [
            "Bug",
            "Bug"
           ],
           "legendgroup": "Bug",
           "marker": {
            "color": "#FF97FF",
            "symbol": "circle"
           },
           "mode": "markers",
           "name": "Bug",
           "orientation": "v",
           "showlegend": true,
           "type": "scatter",
           "x": [
            "Water",
            "Water"
           ],
           "xaxis": "x",
           "y": [
            269,
            454
           ],
           "yaxis": "y"
          }
         ],
         "name": "7"
        },
        {
         "data": [
          {
           "hovertemplate": "<b>%{hovertext}</b><br><br>TYPE2=Poison<br>GENERATION=8<br>TYPE1=%{x}<br>TOTALPOINTS=%{y}<extra></extra>",
           "hovertext": [
            "Toxel",
            "Toxtricity Low Key Form",
            "Toxtricity Amped Form"
           ],
           "ids": [
            "Poison",
            "Poison",
            "Poison"
           ],
           "legendgroup": "Poison",
           "marker": {
            "color": "#636efa",
            "symbol": "circle"
           },
           "mode": "markers",
           "name": "Poison",
           "orientation": "v",
           "showlegend": true,
           "type": "scatter",
           "x": [
            "Electric",
            "Electric",
            "Electric"
           ],
           "xaxis": "x",
           "y": [
            242,
            502,
            502
           ],
           "yaxis": "y"
          },
          {
           "hovertemplate": "<b>%{hovertext}</b><br><br>TYPE2=Dragon<br>GENERATION=8<br>TYPE1=%{x}<br>TOTALPOINTS=%{y}<extra></extra>",
           "hovertext": [
            "Applin",
            "Flapple",
            "Appletun",
            "Dracozolt",
            "Dracovish",
            "Duraludon",
            "Eternatus",
            "Eternatus Eternamax"
           ],
           "ids": [
            "Dragon",
            "Dragon",
            "Dragon",
            "Dragon",
            "Dragon",
            "Dragon",
            "Dragon",
            "Dragon"
           ],
           "legendgroup": "Dragon",
           "marker": {
            "color": "#ab63fa",
            "symbol": "circle"
           },
           "mode": "markers",
           "name": "Dragon",
           "orientation": "v",
           "showlegend": true,
           "type": "scatter",
           "x": [
            "Grass",
            "Grass",
            "Grass",
            "Electric",
            "Water",
            "Steel",
            "Poison",
            "Poison"
           ],
           "xaxis": "x",
           "y": [
            260,
            485,
            485,
            505,
            505,
            535,
            690,
            1125
           ],
           "yaxis": "y"
          },
          {
           "hovertemplate": "<b>%{hovertext}</b><br><br>TYPE2=Normal<br>GENERATION=8<br>TYPE1=%{x}<br>TOTALPOINTS=%{y}<extra></extra>",
           "hovertext": [
            "Obstagoon",
            "Indeedee Male",
            "Indeedee Female"
           ],
           "ids": [
            "Normal",
            "Normal",
            "Normal"
           ],
           "legendgroup": "Normal",
           "marker": {
            "color": "#FFA15A",
            "symbol": "circle"
           },
           "mode": "markers",
           "name": "Normal",
           "orientation": "v",
           "showlegend": true,
           "type": "scatter",
           "x": [
            "Dark",
            "Psychic",
            "Psychic"
           ],
           "xaxis": "x",
           "y": [
            520,
            475,
            475
           ],
           "yaxis": "y"
          },
          {
           "hovertemplate": "<b>%{hovertext}</b><br><br>TYPE2=Psychic<br>GENERATION=8<br>TYPE1=%{x}<br>TOTALPOINTS=%{y}<extra></extra>",
           "hovertext": [
            "Dottler",
            "Orbeetle"
           ],
           "ids": [
            "Psychic",
            "Psychic"
           ],
           "legendgroup": "Psychic",
           "marker": {
            "color": "#19d3f3",
            "symbol": "circle"
           },
           "mode": "markers",
           "name": "Psychic",
           "orientation": "v",
           "showlegend": true,
           "type": "scatter",
           "x": [
            "Bug",
            "Bug"
           ],
           "xaxis": "x",
           "y": [
            335,
            505
           ],
           "yaxis": "y"
          },
          {
           "hovertemplate": "<b>%{hovertext}</b><br><br>TYPE2=Steel<br>GENERATION=8<br>TYPE1=%{x}<br>TOTALPOINTS=%{y}<extra></extra>",
           "hovertext": [
            "Corviknight",
            "Zacian Crowned Sword",
            "Zamazenta Crowned Shield"
           ],
           "ids": [
            "Steel",
            "Steel",
            "Steel"
           ],
           "legendgroup": "Steel",
           "marker": {
            "color": "#FF6692",
            "symbol": "circle"
           },
           "mode": "markers",
           "name": "Steel",
           "orientation": "v",
           "showlegend": true,
           "type": "scatter",
           "x": [
            "Flying",
            "Fairy",
            "Fighting"
           ],
           "xaxis": "x",
           "y": [
            495,
            720,
            720
           ],
           "yaxis": "y"
          },
          {
           "hovertemplate": "<b>%{hovertext}</b><br><br>TYPE2=Fairy<br>GENERATION=8<br>TYPE1=%{x}<br>TOTALPOINTS=%{y}<extra></extra>",
           "hovertext": [
            "Hatterene",
            "Impidimp",
            "Morgrem",
            "Grimmsnarl"
           ],
           "ids": [
            "Fairy",
            "Fairy",
            "Fairy",
            "Fairy"
           ],
           "legendgroup": "Fairy",
           "marker": {
            "color": "#FF97FF",
            "symbol": "circle"
           },
           "mode": "markers",
           "name": "Fairy",
           "orientation": "v",
           "showlegend": true,
           "type": "scatter",
           "x": [
            "Psychic",
            "Dark",
            "Dark",
            "Dark"
           ],
           "xaxis": "x",
           "y": [
            510,
            265,
            370,
            510
           ],
           "yaxis": "y"
          },
          {
           "hovertemplate": "<b>%{hovertext}</b><br><br>TYPE2=Ice<br>GENERATION=8<br>TYPE1=%{x}<br>TOTALPOINTS=%{y}<extra></extra>",
           "hovertext": [
            "Mr. Rime",
            "Arctozolt",
            "Arctovish"
           ],
           "ids": [
            "Ice",
            "Ice",
            "Ice"
           ],
           "legendgroup": "Ice",
           "marker": {
            "color": "#00cc96",
            "symbol": "circle"
           },
           "mode": "markers",
           "name": "Ice",
           "orientation": "v",
           "showlegend": true,
           "type": "scatter",
           "x": [
            "Psychic",
            "Electric",
            "Water"
           ],
           "xaxis": "x",
           "y": [
            520,
            505,
            505
           ],
           "yaxis": "y"
          },
          {
           "hovertemplate": "<b>%{hovertext}</b><br><br>TYPE2=Dark<br>GENERATION=8<br>TYPE1=%{x}<br>TOTALPOINTS=%{y}<extra></extra>",
           "hovertext": [
            "Morpeko Full Belly Mode",
            "Morpeko Hangry Mode"
           ],
           "ids": [
            "Dark",
            "Dark"
           ],
           "legendgroup": "Dark",
           "marker": {
            "color": "#ab63fa",
            "symbol": "circle"
           },
           "mode": "markers",
           "name": "Dark",
           "orientation": "v",
           "showlegend": true,
           "type": "scatter",
           "x": [
            "Electric",
            "Electric"
           ],
           "xaxis": "x",
           "y": [
            436,
            436
           ],
           "yaxis": "y"
          },
          {
           "hovertemplate": "<b>%{hovertext}</b><br><br>TYPE2=Ghost<br>GENERATION=8<br>TYPE1=%{x}<br>TOTALPOINTS=%{y}<extra></extra>",
           "hovertext": [
            "Runerigus",
            "Dreepy",
            "Drakloak",
            "Dragapult"
           ],
           "ids": [
            "Ghost",
            "Ghost",
            "Ghost",
            "Ghost"
           ],
           "legendgroup": "Ghost",
           "marker": {
            "color": "#FFA15A",
            "symbol": "circle"
           },
           "mode": "markers",
           "name": "Ghost",
           "orientation": "v",
           "showlegend": true,
           "type": "scatter",
           "x": [
            "Ground",
            "Dragon",
            "Dragon",
            "Dragon"
           ],
           "xaxis": "x",
           "y": [
            483,
            270,
            410,
            600
           ],
           "yaxis": "y"
          },
          {
           "hovertemplate": "<b>%{hovertext}</b><br><br>TYPE2=Rock<br>GENERATION=8<br>TYPE1=%{x}<br>TOTALPOINTS=%{y}<extra></extra>",
           "hovertext": [
            "Drednaw"
           ],
           "ids": [
            "Rock"
           ],
           "legendgroup": "Rock",
           "marker": {
            "color": "#19d3f3",
            "symbol": "circle"
           },
           "mode": "markers",
           "name": "Rock",
           "orientation": "v",
           "showlegend": true,
           "type": "scatter",
           "x": [
            "Water"
           ],
           "xaxis": "x",
           "y": [
            485
           ],
           "yaxis": "y"
          },
          {
           "hovertemplate": "<b>%{hovertext}</b><br><br>TYPE2=Water<br>GENERATION=8<br>TYPE1=%{x}<br>TOTALPOINTS=%{y}<extra></extra>",
           "hovertext": [
            "Cramorant"
           ],
           "ids": [
            "Water"
           ],
           "legendgroup": "Water",
           "marker": {
            "color": "#FF6692",
            "symbol": "circle"
           },
           "mode": "markers",
           "name": "Water",
           "orientation": "v",
           "showlegend": true,
           "type": "scatter",
           "x": [
            "Flying"
           ],
           "xaxis": "x",
           "y": [
            475
           ],
           "yaxis": "y"
          },
          {
           "hovertemplate": "<b>%{hovertext}</b><br><br>TYPE2=Fire<br>GENERATION=8<br>TYPE1=%{x}<br>TOTALPOINTS=%{y}<extra></extra>",
           "hovertext": [
            "Carkol",
            "Coalossal"
           ],
           "ids": [
            "Fire",
            "Fire"
           ],
           "legendgroup": "Fire",
           "marker": {
            "color": "#B6E880",
            "symbol": "circle"
           },
           "mode": "markers",
           "name": "Fire",
           "orientation": "v",
           "showlegend": true,
           "type": "scatter",
           "x": [
            "Rock",
            "Rock"
           ],
           "xaxis": "x",
           "y": [
            410,
            510
           ],
           "yaxis": "y"
          },
          {
           "hovertemplate": "<b>%{hovertext}</b><br><br>TYPE2=Bug<br>GENERATION=8<br>TYPE1=%{x}<br>TOTALPOINTS=%{y}<extra></extra>",
           "hovertext": [
            "Sizzlipede",
            "Centiskorch",
            "Snom",
            "Frosmoth"
           ],
           "ids": [
            "Bug",
            "Bug",
            "Bug",
            "Bug"
           ],
           "legendgroup": "Bug",
           "marker": {
            "color": "#FF97FF",
            "symbol": "circle"
           },
           "mode": "markers",
           "name": "Bug",
           "orientation": "v",
           "showlegend": true,
           "type": "scatter",
           "x": [
            "Fire",
            "Fire",
            "Ice",
            "Ice"
           ],
           "xaxis": "x",
           "y": [
            305,
            525,
            185,
            475
           ],
           "yaxis": "y"
          }
         ],
         "name": "8"
        }
       ],
       "layout": {
        "legend": {
         "title": {
          "text": "TYPE2"
         },
         "tracegroupgap": 0
        },
        "margin": {
         "t": 60
        },
        "sliders": [
         {
          "active": 0,
          "currentvalue": {
           "prefix": "GENERATION="
          },
          "len": 0.9,
          "pad": {
           "b": 10,
           "t": 60
          },
          "steps": [
           {
            "args": [
             [
              "1"
             ],
             {
              "frame": {
               "duration": 0,
               "redraw": false
              },
              "fromcurrent": true,
              "mode": "immediate",
              "transition": {
               "duration": 0,
               "easing": "linear"
              }
             }
            ],
            "label": "1",
            "method": "animate"
           },
           {
            "args": [
             [
              "2"
             ],
             {
              "frame": {
               "duration": 0,
               "redraw": false
              },
              "fromcurrent": true,
              "mode": "immediate",
              "transition": {
               "duration": 0,
               "easing": "linear"
              }
             }
            ],
            "label": "2",
            "method": "animate"
           },
           {
            "args": [
             [
              "3"
             ],
             {
              "frame": {
               "duration": 0,
               "redraw": false
              },
              "fromcurrent": true,
              "mode": "immediate",
              "transition": {
               "duration": 0,
               "easing": "linear"
              }
             }
            ],
            "label": "3",
            "method": "animate"
           },
           {
            "args": [
             [
              "4"
             ],
             {
              "frame": {
               "duration": 0,
               "redraw": false
              },
              "fromcurrent": true,
              "mode": "immediate",
              "transition": {
               "duration": 0,
               "easing": "linear"
              }
             }
            ],
            "label": "4",
            "method": "animate"
           },
           {
            "args": [
             [
              "5"
             ],
             {
              "frame": {
               "duration": 0,
               "redraw": false
              },
              "fromcurrent": true,
              "mode": "immediate",
              "transition": {
               "duration": 0,
               "easing": "linear"
              }
             }
            ],
            "label": "5",
            "method": "animate"
           },
           {
            "args": [
             [
              "6"
             ],
             {
              "frame": {
               "duration": 0,
               "redraw": false
              },
              "fromcurrent": true,
              "mode": "immediate",
              "transition": {
               "duration": 0,
               "easing": "linear"
              }
             }
            ],
            "label": "6",
            "method": "animate"
           },
           {
            "args": [
             [
              "7"
             ],
             {
              "frame": {
               "duration": 0,
               "redraw": false
              },
              "fromcurrent": true,
              "mode": "immediate",
              "transition": {
               "duration": 0,
               "easing": "linear"
              }
             }
            ],
            "label": "7",
            "method": "animate"
           },
           {
            "args": [
             [
              "8"
             ],
             {
              "frame": {
               "duration": 0,
               "redraw": false
              },
              "fromcurrent": true,
              "mode": "immediate",
              "transition": {
               "duration": 0,
               "easing": "linear"
              }
             }
            ],
            "label": "8",
            "method": "animate"
           }
          ],
          "x": 0.1,
          "xanchor": "left",
          "y": 0,
          "yanchor": "top"
         }
        ],
        "template": {
         "data": {
          "bar": [
           {
            "error_x": {
             "color": "#2a3f5f"
            },
            "error_y": {
             "color": "#2a3f5f"
            },
            "marker": {
             "line": {
              "color": "#E5ECF6",
              "width": 0.5
             },
             "pattern": {
              "fillmode": "overlay",
              "size": 10,
              "solidity": 0.2
             }
            },
            "type": "bar"
           }
          ],
          "barpolar": [
           {
            "marker": {
             "line": {
              "color": "#E5ECF6",
              "width": 0.5
             },
             "pattern": {
              "fillmode": "overlay",
              "size": 10,
              "solidity": 0.2
             }
            },
            "type": "barpolar"
           }
          ],
          "carpet": [
           {
            "aaxis": {
             "endlinecolor": "#2a3f5f",
             "gridcolor": "white",
             "linecolor": "white",
             "minorgridcolor": "white",
             "startlinecolor": "#2a3f5f"
            },
            "baxis": {
             "endlinecolor": "#2a3f5f",
             "gridcolor": "white",
             "linecolor": "white",
             "minorgridcolor": "white",
             "startlinecolor": "#2a3f5f"
            },
            "type": "carpet"
           }
          ],
          "choropleth": [
           {
            "colorbar": {
             "outlinewidth": 0,
             "ticks": ""
            },
            "type": "choropleth"
           }
          ],
          "contour": [
           {
            "colorbar": {
             "outlinewidth": 0,
             "ticks": ""
            },
            "colorscale": [
             [
              0,
              "#0d0887"
             ],
             [
              0.1111111111111111,
              "#46039f"
             ],
             [
              0.2222222222222222,
              "#7201a8"
             ],
             [
              0.3333333333333333,
              "#9c179e"
             ],
             [
              0.4444444444444444,
              "#bd3786"
             ],
             [
              0.5555555555555556,
              "#d8576b"
             ],
             [
              0.6666666666666666,
              "#ed7953"
             ],
             [
              0.7777777777777778,
              "#fb9f3a"
             ],
             [
              0.8888888888888888,
              "#fdca26"
             ],
             [
              1,
              "#f0f921"
             ]
            ],
            "type": "contour"
           }
          ],
          "contourcarpet": [
           {
            "colorbar": {
             "outlinewidth": 0,
             "ticks": ""
            },
            "type": "contourcarpet"
           }
          ],
          "heatmap": [
           {
            "colorbar": {
             "outlinewidth": 0,
             "ticks": ""
            },
            "colorscale": [
             [
              0,
              "#0d0887"
             ],
             [
              0.1111111111111111,
              "#46039f"
             ],
             [
              0.2222222222222222,
              "#7201a8"
             ],
             [
              0.3333333333333333,
              "#9c179e"
             ],
             [
              0.4444444444444444,
              "#bd3786"
             ],
             [
              0.5555555555555556,
              "#d8576b"
             ],
             [
              0.6666666666666666,
              "#ed7953"
             ],
             [
              0.7777777777777778,
              "#fb9f3a"
             ],
             [
              0.8888888888888888,
              "#fdca26"
             ],
             [
              1,
              "#f0f921"
             ]
            ],
            "type": "heatmap"
           }
          ],
          "heatmapgl": [
           {
            "colorbar": {
             "outlinewidth": 0,
             "ticks": ""
            },
            "colorscale": [
             [
              0,
              "#0d0887"
             ],
             [
              0.1111111111111111,
              "#46039f"
             ],
             [
              0.2222222222222222,
              "#7201a8"
             ],
             [
              0.3333333333333333,
              "#9c179e"
             ],
             [
              0.4444444444444444,
              "#bd3786"
             ],
             [
              0.5555555555555556,
              "#d8576b"
             ],
             [
              0.6666666666666666,
              "#ed7953"
             ],
             [
              0.7777777777777778,
              "#fb9f3a"
             ],
             [
              0.8888888888888888,
              "#fdca26"
             ],
             [
              1,
              "#f0f921"
             ]
            ],
            "type": "heatmapgl"
           }
          ],
          "histogram": [
           {
            "marker": {
             "pattern": {
              "fillmode": "overlay",
              "size": 10,
              "solidity": 0.2
             }
            },
            "type": "histogram"
           }
          ],
          "histogram2d": [
           {
            "colorbar": {
             "outlinewidth": 0,
             "ticks": ""
            },
            "colorscale": [
             [
              0,
              "#0d0887"
             ],
             [
              0.1111111111111111,
              "#46039f"
             ],
             [
              0.2222222222222222,
              "#7201a8"
             ],
             [
              0.3333333333333333,
              "#9c179e"
             ],
             [
              0.4444444444444444,
              "#bd3786"
             ],
             [
              0.5555555555555556,
              "#d8576b"
             ],
             [
              0.6666666666666666,
              "#ed7953"
             ],
             [
              0.7777777777777778,
              "#fb9f3a"
             ],
             [
              0.8888888888888888,
              "#fdca26"
             ],
             [
              1,
              "#f0f921"
             ]
            ],
            "type": "histogram2d"
           }
          ],
          "histogram2dcontour": [
           {
            "colorbar": {
             "outlinewidth": 0,
             "ticks": ""
            },
            "colorscale": [
             [
              0,
              "#0d0887"
             ],
             [
              0.1111111111111111,
              "#46039f"
             ],
             [
              0.2222222222222222,
              "#7201a8"
             ],
             [
              0.3333333333333333,
              "#9c179e"
             ],
             [
              0.4444444444444444,
              "#bd3786"
             ],
             [
              0.5555555555555556,
              "#d8576b"
             ],
             [
              0.6666666666666666,
              "#ed7953"
             ],
             [
              0.7777777777777778,
              "#fb9f3a"
             ],
             [
              0.8888888888888888,
              "#fdca26"
             ],
             [
              1,
              "#f0f921"
             ]
            ],
            "type": "histogram2dcontour"
           }
          ],
          "mesh3d": [
           {
            "colorbar": {
             "outlinewidth": 0,
             "ticks": ""
            },
            "type": "mesh3d"
           }
          ],
          "parcoords": [
           {
            "line": {
             "colorbar": {
              "outlinewidth": 0,
              "ticks": ""
             }
            },
            "type": "parcoords"
           }
          ],
          "pie": [
           {
            "automargin": true,
            "type": "pie"
           }
          ],
          "scatter": [
           {
            "fillpattern": {
             "fillmode": "overlay",
             "size": 10,
             "solidity": 0.2
            },
            "type": "scatter"
           }
          ],
          "scatter3d": [
           {
            "line": {
             "colorbar": {
              "outlinewidth": 0,
              "ticks": ""
             }
            },
            "marker": {
             "colorbar": {
              "outlinewidth": 0,
              "ticks": ""
             }
            },
            "type": "scatter3d"
           }
          ],
          "scattercarpet": [
           {
            "marker": {
             "colorbar": {
              "outlinewidth": 0,
              "ticks": ""
             }
            },
            "type": "scattercarpet"
           }
          ],
          "scattergeo": [
           {
            "marker": {
             "colorbar": {
              "outlinewidth": 0,
              "ticks": ""
             }
            },
            "type": "scattergeo"
           }
          ],
          "scattergl": [
           {
            "marker": {
             "colorbar": {
              "outlinewidth": 0,
              "ticks": ""
             }
            },
            "type": "scattergl"
           }
          ],
          "scattermapbox": [
           {
            "marker": {
             "colorbar": {
              "outlinewidth": 0,
              "ticks": ""
             }
            },
            "type": "scattermapbox"
           }
          ],
          "scatterpolar": [
           {
            "marker": {
             "colorbar": {
              "outlinewidth": 0,
              "ticks": ""
             }
            },
            "type": "scatterpolar"
           }
          ],
          "scatterpolargl": [
           {
            "marker": {
             "colorbar": {
              "outlinewidth": 0,
              "ticks": ""
             }
            },
            "type": "scatterpolargl"
           }
          ],
          "scatterternary": [
           {
            "marker": {
             "colorbar": {
              "outlinewidth": 0,
              "ticks": ""
             }
            },
            "type": "scatterternary"
           }
          ],
          "surface": [
           {
            "colorbar": {
             "outlinewidth": 0,
             "ticks": ""
            },
            "colorscale": [
             [
              0,
              "#0d0887"
             ],
             [
              0.1111111111111111,
              "#46039f"
             ],
             [
              0.2222222222222222,
              "#7201a8"
             ],
             [
              0.3333333333333333,
              "#9c179e"
             ],
             [
              0.4444444444444444,
              "#bd3786"
             ],
             [
              0.5555555555555556,
              "#d8576b"
             ],
             [
              0.6666666666666666,
              "#ed7953"
             ],
             [
              0.7777777777777778,
              "#fb9f3a"
             ],
             [
              0.8888888888888888,
              "#fdca26"
             ],
             [
              1,
              "#f0f921"
             ]
            ],
            "type": "surface"
           }
          ],
          "table": [
           {
            "cells": {
             "fill": {
              "color": "#EBF0F8"
             },
             "line": {
              "color": "white"
             }
            },
            "header": {
             "fill": {
              "color": "#C8D4E3"
             },
             "line": {
              "color": "white"
             }
            },
            "type": "table"
           }
          ]
         },
         "layout": {
          "annotationdefaults": {
           "arrowcolor": "#2a3f5f",
           "arrowhead": 0,
           "arrowwidth": 1
          },
          "autotypenumbers": "strict",
          "coloraxis": {
           "colorbar": {
            "outlinewidth": 0,
            "ticks": ""
           }
          },
          "colorscale": {
           "diverging": [
            [
             0,
             "#8e0152"
            ],
            [
             0.1,
             "#c51b7d"
            ],
            [
             0.2,
             "#de77ae"
            ],
            [
             0.3,
             "#f1b6da"
            ],
            [
             0.4,
             "#fde0ef"
            ],
            [
             0.5,
             "#f7f7f7"
            ],
            [
             0.6,
             "#e6f5d0"
            ],
            [
             0.7,
             "#b8e186"
            ],
            [
             0.8,
             "#7fbc41"
            ],
            [
             0.9,
             "#4d9221"
            ],
            [
             1,
             "#276419"
            ]
           ],
           "sequential": [
            [
             0,
             "#0d0887"
            ],
            [
             0.1111111111111111,
             "#46039f"
            ],
            [
             0.2222222222222222,
             "#7201a8"
            ],
            [
             0.3333333333333333,
             "#9c179e"
            ],
            [
             0.4444444444444444,
             "#bd3786"
            ],
            [
             0.5555555555555556,
             "#d8576b"
            ],
            [
             0.6666666666666666,
             "#ed7953"
            ],
            [
             0.7777777777777778,
             "#fb9f3a"
            ],
            [
             0.8888888888888888,
             "#fdca26"
            ],
            [
             1,
             "#f0f921"
            ]
           ],
           "sequentialminus": [
            [
             0,
             "#0d0887"
            ],
            [
             0.1111111111111111,
             "#46039f"
            ],
            [
             0.2222222222222222,
             "#7201a8"
            ],
            [
             0.3333333333333333,
             "#9c179e"
            ],
            [
             0.4444444444444444,
             "#bd3786"
            ],
            [
             0.5555555555555556,
             "#d8576b"
            ],
            [
             0.6666666666666666,
             "#ed7953"
            ],
            [
             0.7777777777777778,
             "#fb9f3a"
            ],
            [
             0.8888888888888888,
             "#fdca26"
            ],
            [
             1,
             "#f0f921"
            ]
           ]
          },
          "colorway": [
           "#636efa",
           "#EF553B",
           "#00cc96",
           "#ab63fa",
           "#FFA15A",
           "#19d3f3",
           "#FF6692",
           "#B6E880",
           "#FF97FF",
           "#FECB52"
          ],
          "font": {
           "color": "#2a3f5f"
          },
          "geo": {
           "bgcolor": "white",
           "lakecolor": "white",
           "landcolor": "#E5ECF6",
           "showlakes": true,
           "showland": true,
           "subunitcolor": "white"
          },
          "hoverlabel": {
           "align": "left"
          },
          "hovermode": "closest",
          "mapbox": {
           "style": "light"
          },
          "paper_bgcolor": "white",
          "plot_bgcolor": "#E5ECF6",
          "polar": {
           "angularaxis": {
            "gridcolor": "white",
            "linecolor": "white",
            "ticks": ""
           },
           "bgcolor": "#E5ECF6",
           "radialaxis": {
            "gridcolor": "white",
            "linecolor": "white",
            "ticks": ""
           }
          },
          "scene": {
           "xaxis": {
            "backgroundcolor": "#E5ECF6",
            "gridcolor": "white",
            "gridwidth": 2,
            "linecolor": "white",
            "showbackground": true,
            "ticks": "",
            "zerolinecolor": "white"
           },
           "yaxis": {
            "backgroundcolor": "#E5ECF6",
            "gridcolor": "white",
            "gridwidth": 2,
            "linecolor": "white",
            "showbackground": true,
            "ticks": "",
            "zerolinecolor": "white"
           },
           "zaxis": {
            "backgroundcolor": "#E5ECF6",
            "gridcolor": "white",
            "gridwidth": 2,
            "linecolor": "white",
            "showbackground": true,
            "ticks": "",
            "zerolinecolor": "white"
           }
          },
          "shapedefaults": {
           "line": {
            "color": "#2a3f5f"
           }
          },
          "ternary": {
           "aaxis": {
            "gridcolor": "white",
            "linecolor": "white",
            "ticks": ""
           },
           "baxis": {
            "gridcolor": "white",
            "linecolor": "white",
            "ticks": ""
           },
           "bgcolor": "#E5ECF6",
           "caxis": {
            "gridcolor": "white",
            "linecolor": "white",
            "ticks": ""
           }
          },
          "title": {
           "x": 0.05
          },
          "xaxis": {
           "automargin": true,
           "gridcolor": "white",
           "linecolor": "white",
           "ticks": "",
           "title": {
            "standoff": 15
           },
           "zerolinecolor": "white",
           "zerolinewidth": 2
          },
          "yaxis": {
           "automargin": true,
           "gridcolor": "white",
           "linecolor": "white",
           "ticks": "",
           "title": {
            "standoff": 15
           },
           "zerolinecolor": "white",
           "zerolinewidth": 2
          }
         }
        },
        "updatemenus": [
         {
          "buttons": [
           {
            "args": [
             null,
             {
              "frame": {
               "duration": 1000,
               "redraw": false
              },
              "fromcurrent": true,
              "mode": "immediate",
              "transition": {
               "duration": 500,
               "easing": "linear"
              }
             }
            ],
            "label": "&#9654;",
            "method": "animate"
           },
           {
            "args": [
             [
              null
             ],
             {
              "frame": {
               "duration": 0,
               "redraw": false
              },
              "fromcurrent": true,
              "mode": "immediate",
              "transition": {
               "duration": 0,
               "easing": "linear"
              }
             }
            ],
            "label": "&#9724;",
            "method": "animate"
           }
          ],
          "direction": "left",
          "pad": {
           "r": 10,
           "t": 70
          },
          "showactive": false,
          "type": "buttons",
          "x": 0.1,
          "xanchor": "right",
          "y": 0,
          "yanchor": "top"
         }
        ],
        "xaxis": {
         "anchor": "y",
         "domain": [
          0,
          1
         ],
         "title": {
          "text": "TYPE1"
         }
        },
        "yaxis": {
         "anchor": "x",
         "domain": [
          0,
          1
         ],
         "title": {
          "text": "TOTALPOINTS"
         }
        }
       }
      }
     },
     "metadata": {},
     "output_type": "display_data"
    }
   ],
   "source": [
    "fig = px.scatter(df, x=\"TYPE1\", y=\"TOTALPOINTS\", color=\"TYPE2\",animation_frame=\"GENERATION\", animation_group=\"TYPE2\",hover_name = 'NAME')\n",
    "fig.layout.updatemenus[0].buttons[0].args[1][\"frame\"][\"duration\"] = 1000\n",
    "fig.show()"
   ]
  },
  {
   "cell_type": "code",
   "execution_count": null,
   "metadata": {},
   "outputs": [],
   "source": []
  },
  {
   "cell_type": "code",
   "execution_count": null,
   "metadata": {},
   "outputs": [],
   "source": []
  },
  {
   "cell_type": "code",
   "execution_count": null,
   "metadata": {},
   "outputs": [],
   "source": []
  },
  {
   "cell_type": "code",
   "execution_count": null,
   "metadata": {},
   "outputs": [],
   "source": []
  }
 ],
 "metadata": {
  "kernelspec": {
   "display_name": "Python 3",
   "language": "python",
   "name": "python3"
  },
  "language_info": {
   "codemirror_mode": {
    "name": "ipython",
    "version": 3
   },
   "file_extension": ".py",
   "mimetype": "text/x-python",
   "name": "python",
   "nbconvert_exporter": "python",
   "pygments_lexer": "ipython3",
   "version": "3.11.3"
  },
  "orig_nbformat": 4
 },
 "nbformat": 4,
 "nbformat_minor": 2
}
